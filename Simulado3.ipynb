{
 "cells": [
  {
   "cell_type": "code",
   "execution_count": 44,
   "id": "526081c9",
   "metadata": {},
   "outputs": [],
   "source": [
    "# In [01]: Importação dos pacotes\n",
    "import pandas as pd\n",
    "import numpy as np\n",
    "import plotly.express as px\n"
   ]
  },
  {
   "cell_type": "code",
   "execution_count": 45,
   "id": "dc306d77",
   "metadata": {},
   "outputs": [],
   "source": [
    "ztA = 8\n",
    "ztB = 78\n",
    "ztC = ztA + 7\n",
    "ztD = ztB + 63\n",
    "ztE = ztC / 10"
   ]
  },
  {
   "cell_type": "code",
   "execution_count": 46,
   "id": "5a7ea1a7",
   "metadata": {},
   "outputs": [
    {
     "name": "stdout",
     "output_type": "stream",
     "text": [
      "Série ss-copos:\n",
      "Caninha         125\n",
      "Americano       180\n",
      "Barrinquinha    190\n",
      "Batuque         280\n",
      "Orla            330\n",
      "Fiore           350\n",
      "Batuque         460\n",
      "dtype: int64\n",
      "\n",
      "Atributos:\n",
      "size: 7\n",
      "shape: (7,)\n",
      "dtype: int64\n",
      "\n",
      "Série com índices alterados:\n",
      "Caninha        125\n",
      "Americano      180\n",
      "Barriquinha    190\n",
      "Batuque        280\n",
      "Orla           330\n",
      "Fiore          350\n",
      "Batuque        460\n",
      "dtype: int64\n",
      "\n",
      "Índices unicos? False\n",
      "Índices distintos:\n",
      "['Caninha', 'Americano', 'Barriquinha', 'Batuque', 'Orla', 'Fiore']\n"
     ]
    }
   ],
   "source": [
    "# In [02]: Criação da Série ss_copos    \n",
    "ss_copos = pd.Series([125, 180, 190, 280, 330, 350, 460])\n",
    "ss_copos.index = ['Caninha', 'Americano', 'Barrinquinha', 'Batuque', 'Orla', 'Fiore', 'Batuque']\n",
    "print(\"Série ss-copos:\")\n",
    "print(ss_copos)\n",
    "\n",
    "# In [03]: Impressão dos atributos\n",
    "print(\"\\nAtributos:\")\n",
    "print(\"size:\", ss_copos.size)\n",
    "print(\"shape:\", ss_copos.shape)\n",
    "print(\"dtype:\", ss_copos.dtype)\n",
    "\n",
    "# In [04]: Alteração dos índices de ss_copos\n",
    "ss_copos.index = ['Caninha', 'Americano', 'Barriquinha', 'Batuque', 'Orla', 'Fiore', 'Batuque']\n",
    "print(\"\\nSérie com índices alterados:\")\n",
    "print(ss_copos)\n",
    "\n",
    "# In [05]: Verificação se os índices são distintos\n",
    "print(f\"\\nÍndices unicos? {ss_copos.index.is_unique}\")\n",
    "\n",
    "# In [06]: Obtenção de uma lista com os índices distintos\n",
    "indices_distintos = ss_copos.index.unique().tolist()\n",
    "print(\"Índices distintos:\")\n",
    "print(indices_distintos)\n"
   ]
  },
  {
   "cell_type": "code",
   "execution_count": 57,
   "id": "275858ff",
   "metadata": {},
   "outputs": [
    {
     "name": "stdout",
     "output_type": "stream",
     "text": [
      "   Aceleracao  Massa    Forca\n",
      "0         1.6  148.0   236.80\n",
      "1         2.1  139.1   292.11\n",
      "2         1.8  150.1   270.18\n",
      "3         3.1  162.3   503.13\n",
      "4         1.5  137.7   206.55\n",
      "5         7.6  137.7  1046.52\n",
      "6         3.4  163.1   554.54\n",
      "7         7.7  151.7  1168.09\n",
      "8         8.3  134.4  1115.52\n",
      "9         9.2  148.6  1367.12\n",
      "\n",
      "Mediana das Acelerações: 3.25\n",
      "Mediana das Forças: 528.835\n",
      "\n",
      "DataFrame com massas maiores que a média:\n",
      "   Aceleracao  Massa    Forca\n",
      "0         1.6  148.0   236.80\n",
      "2         1.8  150.1   270.18\n",
      "3         3.1  162.3   503.13\n",
      "6         3.4  163.1   554.54\n",
      "7         7.7  151.7  1168.09\n",
      "9         9.2  148.6  1367.12\n"
     ]
    }
   ],
   "source": [
    "# In [07]: Criação do DataFrame df_fisica (CORRIGIDO)\n",
    "np.random.seed(42) # Garante que os números aleatórios sejam os mesmos a cada execução\n",
    "df_fisica = pd.DataFrame({\n",
    "    'Aceleracao': [1.6, 2.1, 1.8, 3.1, 1.5, 7.6, 3.4, 7.7, 8.3, 9.2],\n",
    "    'Massa': np.random.normal(loc=141, scale=14, size=10)\n",
    "})\n",
    "\n",
    "# In [08]: Arredondamento da coluna Massa\n",
    "df_fisica['Massa'] = df_fisica['Massa'].round(1)\n",
    "\n",
    "# In [09]: Adição da coluna Força\n",
    "df_fisica['Forca'] = df_fisica['Aceleracao'] * df_fisica['Massa']\n",
    "print(df_fisica)\n",
    "\n",
    "# In [10]: Impressão da mediana e filtragem pela média\n",
    "mediana_aceleracao = df_fisica['Aceleracao'].median()\n",
    "mediana_forca = df_fisica['Forca'].median()\n",
    "print(f\"\\nMediana das Acelerações: {mediana_aceleracao}\")\n",
    "print(f\"Mediana das Forças: {mediana_forca}\")\n",
    "\n",
    "media_massas = df_fisica['Massa'].mean()\n",
    "df_massa_maior_media = df_fisica[df_fisica['Massa'] > media_massas]\n",
    "print(\"\\nDataFrame com massas maiores que a média:\")\n",
    "print(df_massa_maior_media)"
   ]
  },
  {
   "cell_type": "code",
   "execution_count": 56,
   "id": "2fb86f95",
   "metadata": {},
   "outputs": [
    {
     "name": "stdout",
     "output_type": "stream",
     "text": [
      "\n",
      "Primeiro Quartil (Q1) da Massa: 138.3125\n",
      "\n",
      "DataFrame com massas atualizadas e Força recalculada:\n",
      "   Aceleracao     Massa       Forca\n",
      "0         1.6  148.0000   236.80000\n",
      "1         2.1  139.1000   292.11000\n",
      "2         1.8  150.1000   270.18000\n",
      "3         3.1  162.3000   503.13000\n",
      "4         1.5  138.3125   207.46875\n",
      "5         7.6  138.3125  1051.17500\n",
      "6         3.4  163.1000   554.54000\n",
      "7         7.7  151.7000  1168.09000\n",
      "8         8.3  138.3125  1147.99375\n",
      "9         9.2  148.6000  1367.12000\n",
      "\n",
      "DataFrame df_notas original:\n",
      "                      Nome  1ª Ativ  2ª Ativ  3ª Ativ\n",
      "0        Alexandre Gouveia     20.9     25.3     25.9\n",
      "1  Ana Luísa Vaz Alvarenga     15.5     22.0     22.2\n",
      "2    Bela Andradas Toscano     11.0      NaN     16.8\n",
      "3     Breno Pala Bernardes     15.1     21.5     21.7\n",
      "4   Carina Barreto Cândido     12.4     18.5     18.5\n",
      "\n",
      "DataFrame com colunas renomeadas:\n",
      "                      Nome    A1    A2    A3\n",
      "0        Alexandre Gouveia  20.9  25.3  25.9\n",
      "1  Ana Luísa Vaz Alvarenga  15.5  22.0  22.2\n",
      "2    Bela Andradas Toscano  11.0   NaN  16.8\n",
      "3     Breno Pala Bernardes  15.1  21.5  21.7\n",
      "4   Carina Barreto Cândido  12.4  18.5  18.5\n",
      "\n",
      "Número de notas ausentes por coluna:\n",
      "A1    3\n",
      "A2    2\n",
      "A3    3\n",
      "dtype: int64\n"
     ]
    }
   ],
   "source": [
    "# In [11]: Substituição de massas menores que Q1 e atualização da Força\n",
    "q1_massa = df_fisica['Massa'].quantile(0.25)\n",
    "print(f\"\\nPrimeiro Quartil (Q1) da Massa: {q1_massa}\")\n",
    "\n",
    "df_fisica.loc[df_fisica['Massa'] < q1_massa, 'Massa'] = q1_massa\n",
    "df_fisica['Forca'] = df_fisica['Aceleracao'] * df_fisica['Massa']\n",
    "print(\"\\nDataFrame com massas atualizadas e Força recalculada:\")\n",
    "print(df_fisica)\n",
    "\n",
    "# In [12]: Carregamento do arquivo notas_ia.csv\n",
    "df_notas = pd.read_csv('notas_ia.csv', sep=';', decimal=',')\n",
    "print(\"\\nDataFrame df_notas original:\")\n",
    "print(df_notas.head())\n",
    "\n",
    "# In [13]: Alteração do nome das colunas\n",
    "df_notas.columns = ['Nome', 'A1', 'A2', 'A3']\n",
    "print(\"\\nDataFrame com colunas renomeadas:\")\n",
    "print(df_notas.head())\n",
    "\n",
    "# In [14]: Impressão do número de notas ausentes\n",
    "print(\"\\nNúmero de notas ausentes por coluna:\")\n",
    "print(df_notas[['A1', 'A2', 'A3']].isnull().sum())"
   ]
  },
  {
   "cell_type": "code",
   "execution_count": 49,
   "id": "88b607a5",
   "metadata": {},
   "outputs": [
    {
     "name": "stdout",
     "output_type": "stream",
     "text": [
      "\n",
      "DataFrame com notas ausentes substituídas pela mediana:\n",
      "Nome    0\n",
      "A1      0\n",
      "A2      0\n",
      "A3      0\n",
      "dtype: int64\n",
      "                      Nome    A1    A2    A3\n",
      "0        Alexandre Gouveia  20.9  25.3  25.9\n",
      "1  Ana Luísa Vaz Alvarenga  15.5  22.0  22.2\n",
      "2    Bela Andradas Toscano  11.0  24.2  16.8\n",
      "3     Breno Pala Bernardes  15.1  21.5  21.7\n",
      "4   Carina Barreto Cândido  12.4  18.5  18.5\n",
      "\n",
      "DataFrame com colunas de porcentagem:\n",
      "                      Nome    A1    A2    A3   Ap1   Ap2   Ap3\n",
      "0        Alexandre Gouveia  20.9  25.3  25.9  69.7  74.4  71.9\n",
      "1  Ana Luísa Vaz Alvarenga  15.5  22.0  22.2  51.7  64.7  61.7\n",
      "2    Bela Andradas Toscano  11.0  24.2  16.8  36.7  71.2  46.7\n",
      "3     Breno Pala Bernardes  15.1  21.5  21.7  50.3  63.2  60.3\n",
      "4   Carina Barreto Cândido  12.4  18.5  18.5  41.3  54.4  51.4\n"
     ]
    },
    {
     "data": {
      "application/vnd.plotly.v1+json": {
       "config": {
        "plotlyServerURL": "https://plot.ly"
       },
       "data": [
        {
         "alignmentgroup": "True",
         "hovertemplate": "Notas em %=%{x}<br>Atividades Avaliativas=%{y}<extra></extra>",
         "legendgroup": "",
         "marker": {
          "color": "#636efa"
         },
         "name": "",
         "notched": false,
         "offsetgroup": "",
         "orientation": "h",
         "showlegend": false,
         "type": "box",
         "x": {
          "bdata": "zczMzMxsUUCamZmZmdlJQJqZmZmZWUJAZmZmZmYmSUBmZmZmZqZEQGZmZmZmJkxAZmZmZmYmS0AAAAAAAIBMQDMzMzMz01FAMzMzMzMTUkAAAAAAAMBXQGZmZmZmpk9AAAAAAACAUEAAAAAAAMBXQAAAAAAAAFZAAAAAAADAV0BmZmZmZqZJQDMzMzMzszxAZmZmZmamS0BmZmZmZqZOQDMzMzMzU1JAAAAAAACATEAAAAAAAEBSQGZmZmZmpkhAAAAAAADAV0BmZmZmZiZHQJqZmZmZ2UpAZmZmZmYmTEAzMzMzM7M+QDMzMzMzk1JAmpmZmZlZSUAAAAAAAIBKQJqZmZmZmSpAZmZmZmamSEDNzMzMzCxXQM3MzMzMbFJAAAAAAACATEBmZmZmZqZNQJqZmZmZ2UBAzczMzMxMNUAAAAAAAIBMQAAAAAAAwFdAAAAAAADAVUAAAAAAAMBXQAAAAAAAAFFAAAAAAADAV0CamZmZmdlFQAAAAAAAAEdAZmZmZmYmQkAzMzMzM5NTQM3MzMzMTD9AAAAAAAAANkDNzMzMzOxTQM3MzMzMTD5AAAAAAADAVkAAAAAAAEBQQJqZmZmZ2UZAAAAAAABAU0AAAAAAAIBNQGZmZmZmJklAmpmZmZmZUkDNzMzMzCxQQM3MzMzMzFFAmpmZmZmZT0AzMzMzMzNLQJqZmZmZWVFAmpmZmZnZUEBmZmZmZsZVQM3MzMzMDFNAMzMzMzMzU0BmZmZmZkZYQM3MzMzMDFNAZmZmZmbGU0BmZmZmZkZYQM3MzMzMzFFAZmZmZmZGWECamZmZmRlQQGZmZmZm5kRAzczMzMwMUUCamZmZmZlSQJqZmZmZeVNAAAAAAADAUkCamZmZmVlTQM3MzMzMDE9AZmZmZmZGWEAzMzMzM7NNQAAAAAAAoFBAmpmZmZlZUUBmZmZmZuZFQAAAAAAAoFNAAAAAAADAT0CamZmZmXlQQDMzMzMzMzpAMzMzMzMzT0AAAAAAAMBXQM3MzMzMjFNAzczMzMyMTUCamZmZmRlSQAAAAAAAQEdAMzMzMzMzQUAAAAAAAIBRQGZmZmZmRlhAAAAAAACAVkBmZmZmZkZYQJqZmZmZOVJAZmZmZmZGWEBmZmZmZmZMQM3MzMzMjE1AMzMzMzOzSEBmZmZmZoZUQDMzMzMzM0ZAAAAAAACAQUDNzMzMzMxUQJqZmZmZmUVAAAAAAABgV0CamZmZmXlTQAAAAAAAQE1AzczMzMxMVEBmZmZmZgZSQJqZmZmZmU9AmpmZmZn5UUCamZmZmdlOQJqZmZmZWUdAZmZmZmYmTkAzMzMzM7NJQM3MzMzMTFFAzczMzMwMUECamZmZmRlVQDMzMzMzU1JAzczMzMyMUkCamZmZmZlXQDMzMzMzU1JAZmZmZmYmUUCamZmZmZlXQDMzMzMzE1ZAAAAAAAAAWUAzMzMzM7NOQDMzMzMzc0NAMzMzMzNTUECamZmZmdlRQDMzMzMz01JAmpmZmZn5UUDNzMzMzKxSQJqZmZmZmU1AmpmZmZmZV0AzMzMzMzNMQM3MzMzMzE9AzczMzMxMUUBmZmZmZmZEQDMzMzMz81JAzczMzMxMTkBmZmZmZmZPQAAAAAAAADlAMzMzMzOzTUDNzMzMzAxXQGZmZmZm5lJAzczMzMwMTEDNzMzMzExRQM3MzMzMzEVAZmZmZmZmP0CamZmZmblQQJqZmZmZmVdAAAAAAADgVUCamZmZmZlXQDMzMzMzk1FAmpmZmZmZV0DNzMzMzMxKQM3MzMzMDExAMzMzMzMzR0CamZmZmdlTQDMzMzMzs0RAZmZmZmbmP0BmZmZmZiZUQGZmZmZmJkRAMzMzMzOzVkAAAAAAAMBSQM3MzMzMTFFAMzMzMzOTU0DNzMzMzExRQGZmZmZmJk5A",
          "dtype": "f8"
         },
         "x0": " ",
         "xaxis": "x",
         "y": [
          "Ap1",
          "Ap1",
          "Ap1",
          "Ap1",
          "Ap1",
          "Ap1",
          "Ap1",
          "Ap1",
          "Ap1",
          "Ap1",
          "Ap1",
          "Ap1",
          "Ap1",
          "Ap1",
          "Ap1",
          "Ap1",
          "Ap1",
          "Ap1",
          "Ap1",
          "Ap1",
          "Ap1",
          "Ap1",
          "Ap1",
          "Ap1",
          "Ap1",
          "Ap1",
          "Ap1",
          "Ap1",
          "Ap1",
          "Ap1",
          "Ap1",
          "Ap1",
          "Ap1",
          "Ap1",
          "Ap1",
          "Ap1",
          "Ap1",
          "Ap1",
          "Ap1",
          "Ap1",
          "Ap1",
          "Ap1",
          "Ap1",
          "Ap1",
          "Ap1",
          "Ap1",
          "Ap1",
          "Ap1",
          "Ap1",
          "Ap1",
          "Ap1",
          "Ap1",
          "Ap1",
          "Ap1",
          "Ap1",
          "Ap1",
          "Ap1",
          "Ap1",
          "Ap1",
          "Ap1",
          "Ap2",
          "Ap2",
          "Ap2",
          "Ap2",
          "Ap2",
          "Ap2",
          "Ap2",
          "Ap2",
          "Ap2",
          "Ap2",
          "Ap2",
          "Ap2",
          "Ap2",
          "Ap2",
          "Ap2",
          "Ap2",
          "Ap2",
          "Ap2",
          "Ap2",
          "Ap2",
          "Ap2",
          "Ap2",
          "Ap2",
          "Ap2",
          "Ap2",
          "Ap2",
          "Ap2",
          "Ap2",
          "Ap2",
          "Ap2",
          "Ap2",
          "Ap2",
          "Ap2",
          "Ap2",
          "Ap2",
          "Ap2",
          "Ap2",
          "Ap2",
          "Ap2",
          "Ap2",
          "Ap2",
          "Ap2",
          "Ap2",
          "Ap2",
          "Ap2",
          "Ap2",
          "Ap2",
          "Ap2",
          "Ap2",
          "Ap2",
          "Ap2",
          "Ap2",
          "Ap2",
          "Ap2",
          "Ap2",
          "Ap2",
          "Ap2",
          "Ap2",
          "Ap2",
          "Ap2",
          "Ap3",
          "Ap3",
          "Ap3",
          "Ap3",
          "Ap3",
          "Ap3",
          "Ap3",
          "Ap3",
          "Ap3",
          "Ap3",
          "Ap3",
          "Ap3",
          "Ap3",
          "Ap3",
          "Ap3",
          "Ap3",
          "Ap3",
          "Ap3",
          "Ap3",
          "Ap3",
          "Ap3",
          "Ap3",
          "Ap3",
          "Ap3",
          "Ap3",
          "Ap3",
          "Ap3",
          "Ap3",
          "Ap3",
          "Ap3",
          "Ap3",
          "Ap3",
          "Ap3",
          "Ap3",
          "Ap3",
          "Ap3",
          "Ap3",
          "Ap3",
          "Ap3",
          "Ap3",
          "Ap3",
          "Ap3",
          "Ap3",
          "Ap3",
          "Ap3",
          "Ap3",
          "Ap3",
          "Ap3",
          "Ap3",
          "Ap3",
          "Ap3",
          "Ap3",
          "Ap3",
          "Ap3",
          "Ap3",
          "Ap3",
          "Ap3",
          "Ap3",
          "Ap3",
          "Ap3"
         ],
         "y0": " ",
         "yaxis": "y"
        }
       ],
       "layout": {
        "boxmode": "group",
        "height": 400,
        "legend": {
         "tracegroupgap": 0
        },
        "template": {
         "data": {
          "bar": [
           {
            "error_x": {
             "color": "#2a3f5f"
            },
            "error_y": {
             "color": "#2a3f5f"
            },
            "marker": {
             "line": {
              "color": "#E5ECF6",
              "width": 0.5
             },
             "pattern": {
              "fillmode": "overlay",
              "size": 10,
              "solidity": 0.2
             }
            },
            "type": "bar"
           }
          ],
          "barpolar": [
           {
            "marker": {
             "line": {
              "color": "#E5ECF6",
              "width": 0.5
             },
             "pattern": {
              "fillmode": "overlay",
              "size": 10,
              "solidity": 0.2
             }
            },
            "type": "barpolar"
           }
          ],
          "carpet": [
           {
            "aaxis": {
             "endlinecolor": "#2a3f5f",
             "gridcolor": "white",
             "linecolor": "white",
             "minorgridcolor": "white",
             "startlinecolor": "#2a3f5f"
            },
            "baxis": {
             "endlinecolor": "#2a3f5f",
             "gridcolor": "white",
             "linecolor": "white",
             "minorgridcolor": "white",
             "startlinecolor": "#2a3f5f"
            },
            "type": "carpet"
           }
          ],
          "choropleth": [
           {
            "colorbar": {
             "outlinewidth": 0,
             "ticks": ""
            },
            "type": "choropleth"
           }
          ],
          "contour": [
           {
            "colorbar": {
             "outlinewidth": 0,
             "ticks": ""
            },
            "colorscale": [
             [
              0,
              "#0d0887"
             ],
             [
              0.1111111111111111,
              "#46039f"
             ],
             [
              0.2222222222222222,
              "#7201a8"
             ],
             [
              0.3333333333333333,
              "#9c179e"
             ],
             [
              0.4444444444444444,
              "#bd3786"
             ],
             [
              0.5555555555555556,
              "#d8576b"
             ],
             [
              0.6666666666666666,
              "#ed7953"
             ],
             [
              0.7777777777777778,
              "#fb9f3a"
             ],
             [
              0.8888888888888888,
              "#fdca26"
             ],
             [
              1,
              "#f0f921"
             ]
            ],
            "type": "contour"
           }
          ],
          "contourcarpet": [
           {
            "colorbar": {
             "outlinewidth": 0,
             "ticks": ""
            },
            "type": "contourcarpet"
           }
          ],
          "heatmap": [
           {
            "colorbar": {
             "outlinewidth": 0,
             "ticks": ""
            },
            "colorscale": [
             [
              0,
              "#0d0887"
             ],
             [
              0.1111111111111111,
              "#46039f"
             ],
             [
              0.2222222222222222,
              "#7201a8"
             ],
             [
              0.3333333333333333,
              "#9c179e"
             ],
             [
              0.4444444444444444,
              "#bd3786"
             ],
             [
              0.5555555555555556,
              "#d8576b"
             ],
             [
              0.6666666666666666,
              "#ed7953"
             ],
             [
              0.7777777777777778,
              "#fb9f3a"
             ],
             [
              0.8888888888888888,
              "#fdca26"
             ],
             [
              1,
              "#f0f921"
             ]
            ],
            "type": "heatmap"
           }
          ],
          "histogram": [
           {
            "marker": {
             "pattern": {
              "fillmode": "overlay",
              "size": 10,
              "solidity": 0.2
             }
            },
            "type": "histogram"
           }
          ],
          "histogram2d": [
           {
            "colorbar": {
             "outlinewidth": 0,
             "ticks": ""
            },
            "colorscale": [
             [
              0,
              "#0d0887"
             ],
             [
              0.1111111111111111,
              "#46039f"
             ],
             [
              0.2222222222222222,
              "#7201a8"
             ],
             [
              0.3333333333333333,
              "#9c179e"
             ],
             [
              0.4444444444444444,
              "#bd3786"
             ],
             [
              0.5555555555555556,
              "#d8576b"
             ],
             [
              0.6666666666666666,
              "#ed7953"
             ],
             [
              0.7777777777777778,
              "#fb9f3a"
             ],
             [
              0.8888888888888888,
              "#fdca26"
             ],
             [
              1,
              "#f0f921"
             ]
            ],
            "type": "histogram2d"
           }
          ],
          "histogram2dcontour": [
           {
            "colorbar": {
             "outlinewidth": 0,
             "ticks": ""
            },
            "colorscale": [
             [
              0,
              "#0d0887"
             ],
             [
              0.1111111111111111,
              "#46039f"
             ],
             [
              0.2222222222222222,
              "#7201a8"
             ],
             [
              0.3333333333333333,
              "#9c179e"
             ],
             [
              0.4444444444444444,
              "#bd3786"
             ],
             [
              0.5555555555555556,
              "#d8576b"
             ],
             [
              0.6666666666666666,
              "#ed7953"
             ],
             [
              0.7777777777777778,
              "#fb9f3a"
             ],
             [
              0.8888888888888888,
              "#fdca26"
             ],
             [
              1,
              "#f0f921"
             ]
            ],
            "type": "histogram2dcontour"
           }
          ],
          "mesh3d": [
           {
            "colorbar": {
             "outlinewidth": 0,
             "ticks": ""
            },
            "type": "mesh3d"
           }
          ],
          "parcoords": [
           {
            "line": {
             "colorbar": {
              "outlinewidth": 0,
              "ticks": ""
             }
            },
            "type": "parcoords"
           }
          ],
          "pie": [
           {
            "automargin": true,
            "type": "pie"
           }
          ],
          "scatter": [
           {
            "fillpattern": {
             "fillmode": "overlay",
             "size": 10,
             "solidity": 0.2
            },
            "type": "scatter"
           }
          ],
          "scatter3d": [
           {
            "line": {
             "colorbar": {
              "outlinewidth": 0,
              "ticks": ""
             }
            },
            "marker": {
             "colorbar": {
              "outlinewidth": 0,
              "ticks": ""
             }
            },
            "type": "scatter3d"
           }
          ],
          "scattercarpet": [
           {
            "marker": {
             "colorbar": {
              "outlinewidth": 0,
              "ticks": ""
             }
            },
            "type": "scattercarpet"
           }
          ],
          "scattergeo": [
           {
            "marker": {
             "colorbar": {
              "outlinewidth": 0,
              "ticks": ""
             }
            },
            "type": "scattergeo"
           }
          ],
          "scattergl": [
           {
            "marker": {
             "colorbar": {
              "outlinewidth": 0,
              "ticks": ""
             }
            },
            "type": "scattergl"
           }
          ],
          "scattermap": [
           {
            "marker": {
             "colorbar": {
              "outlinewidth": 0,
              "ticks": ""
             }
            },
            "type": "scattermap"
           }
          ],
          "scattermapbox": [
           {
            "marker": {
             "colorbar": {
              "outlinewidth": 0,
              "ticks": ""
             }
            },
            "type": "scattermapbox"
           }
          ],
          "scatterpolar": [
           {
            "marker": {
             "colorbar": {
              "outlinewidth": 0,
              "ticks": ""
             }
            },
            "type": "scatterpolar"
           }
          ],
          "scatterpolargl": [
           {
            "marker": {
             "colorbar": {
              "outlinewidth": 0,
              "ticks": ""
             }
            },
            "type": "scatterpolargl"
           }
          ],
          "scatterternary": [
           {
            "marker": {
             "colorbar": {
              "outlinewidth": 0,
              "ticks": ""
             }
            },
            "type": "scatterternary"
           }
          ],
          "surface": [
           {
            "colorbar": {
             "outlinewidth": 0,
             "ticks": ""
            },
            "colorscale": [
             [
              0,
              "#0d0887"
             ],
             [
              0.1111111111111111,
              "#46039f"
             ],
             [
              0.2222222222222222,
              "#7201a8"
             ],
             [
              0.3333333333333333,
              "#9c179e"
             ],
             [
              0.4444444444444444,
              "#bd3786"
             ],
             [
              0.5555555555555556,
              "#d8576b"
             ],
             [
              0.6666666666666666,
              "#ed7953"
             ],
             [
              0.7777777777777778,
              "#fb9f3a"
             ],
             [
              0.8888888888888888,
              "#fdca26"
             ],
             [
              1,
              "#f0f921"
             ]
            ],
            "type": "surface"
           }
          ],
          "table": [
           {
            "cells": {
             "fill": {
              "color": "#EBF0F8"
             },
             "line": {
              "color": "white"
             }
            },
            "header": {
             "fill": {
              "color": "#C8D4E3"
             },
             "line": {
              "color": "white"
             }
            },
            "type": "table"
           }
          ]
         },
         "layout": {
          "annotationdefaults": {
           "arrowcolor": "#2a3f5f",
           "arrowhead": 0,
           "arrowwidth": 1
          },
          "autotypenumbers": "strict",
          "coloraxis": {
           "colorbar": {
            "outlinewidth": 0,
            "ticks": ""
           }
          },
          "colorscale": {
           "diverging": [
            [
             0,
             "#8e0152"
            ],
            [
             0.1,
             "#c51b7d"
            ],
            [
             0.2,
             "#de77ae"
            ],
            [
             0.3,
             "#f1b6da"
            ],
            [
             0.4,
             "#fde0ef"
            ],
            [
             0.5,
             "#f7f7f7"
            ],
            [
             0.6,
             "#e6f5d0"
            ],
            [
             0.7,
             "#b8e186"
            ],
            [
             0.8,
             "#7fbc41"
            ],
            [
             0.9,
             "#4d9221"
            ],
            [
             1,
             "#276419"
            ]
           ],
           "sequential": [
            [
             0,
             "#0d0887"
            ],
            [
             0.1111111111111111,
             "#46039f"
            ],
            [
             0.2222222222222222,
             "#7201a8"
            ],
            [
             0.3333333333333333,
             "#9c179e"
            ],
            [
             0.4444444444444444,
             "#bd3786"
            ],
            [
             0.5555555555555556,
             "#d8576b"
            ],
            [
             0.6666666666666666,
             "#ed7953"
            ],
            [
             0.7777777777777778,
             "#fb9f3a"
            ],
            [
             0.8888888888888888,
             "#fdca26"
            ],
            [
             1,
             "#f0f921"
            ]
           ],
           "sequentialminus": [
            [
             0,
             "#0d0887"
            ],
            [
             0.1111111111111111,
             "#46039f"
            ],
            [
             0.2222222222222222,
             "#7201a8"
            ],
            [
             0.3333333333333333,
             "#9c179e"
            ],
            [
             0.4444444444444444,
             "#bd3786"
            ],
            [
             0.5555555555555556,
             "#d8576b"
            ],
            [
             0.6666666666666666,
             "#ed7953"
            ],
            [
             0.7777777777777778,
             "#fb9f3a"
            ],
            [
             0.8888888888888888,
             "#fdca26"
            ],
            [
             1,
             "#f0f921"
            ]
           ]
          },
          "colorway": [
           "#636efa",
           "#EF553B",
           "#00cc96",
           "#ab63fa",
           "#FFA15A",
           "#19d3f3",
           "#FF6692",
           "#B6E880",
           "#FF97FF",
           "#FECB52"
          ],
          "font": {
           "color": "#2a3f5f"
          },
          "geo": {
           "bgcolor": "white",
           "lakecolor": "white",
           "landcolor": "#E5ECF6",
           "showlakes": true,
           "showland": true,
           "subunitcolor": "white"
          },
          "hoverlabel": {
           "align": "left"
          },
          "hovermode": "closest",
          "mapbox": {
           "style": "light"
          },
          "paper_bgcolor": "white",
          "plot_bgcolor": "#E5ECF6",
          "polar": {
           "angularaxis": {
            "gridcolor": "white",
            "linecolor": "white",
            "ticks": ""
           },
           "bgcolor": "#E5ECF6",
           "radialaxis": {
            "gridcolor": "white",
            "linecolor": "white",
            "ticks": ""
           }
          },
          "scene": {
           "xaxis": {
            "backgroundcolor": "#E5ECF6",
            "gridcolor": "white",
            "gridwidth": 2,
            "linecolor": "white",
            "showbackground": true,
            "ticks": "",
            "zerolinecolor": "white"
           },
           "yaxis": {
            "backgroundcolor": "#E5ECF6",
            "gridcolor": "white",
            "gridwidth": 2,
            "linecolor": "white",
            "showbackground": true,
            "ticks": "",
            "zerolinecolor": "white"
           },
           "zaxis": {
            "backgroundcolor": "#E5ECF6",
            "gridcolor": "white",
            "gridwidth": 2,
            "linecolor": "white",
            "showbackground": true,
            "ticks": "",
            "zerolinecolor": "white"
           }
          },
          "shapedefaults": {
           "line": {
            "color": "#2a3f5f"
           }
          },
          "ternary": {
           "aaxis": {
            "gridcolor": "white",
            "linecolor": "white",
            "ticks": ""
           },
           "baxis": {
            "gridcolor": "white",
            "linecolor": "white",
            "ticks": ""
           },
           "bgcolor": "#E5ECF6",
           "caxis": {
            "gridcolor": "white",
            "linecolor": "white",
            "ticks": ""
           }
          },
          "title": {
           "x": 0.05
          },
          "xaxis": {
           "automargin": true,
           "gridcolor": "white",
           "linecolor": "white",
           "ticks": "",
           "title": {
            "standoff": 15
           },
           "zerolinecolor": "white",
           "zerolinewidth": 2
          },
          "yaxis": {
           "automargin": true,
           "gridcolor": "white",
           "linecolor": "white",
           "ticks": "",
           "title": {
            "standoff": 15
           },
           "zerolinecolor": "white",
           "zerolinewidth": 2
          }
         }
        },
        "title": {
         "font": {
          "size": 22
         },
         "text": "Notas IA"
        },
        "width": 800,
        "xaxis": {
         "anchor": "y",
         "domain": [
          0,
          1
         ],
         "title": {
          "text": "Notas em %"
         }
        },
        "yaxis": {
         "anchor": "x",
         "domain": [
          0,
          1
         ],
         "title": {
          "text": "Atividades Avaliativas"
         }
        }
       }
      }
     },
     "metadata": {},
     "output_type": "display_data"
    }
   ],
   "source": [
    "# In [15]: Substituição das notas ausentes pela mediana\n",
    "for col in ['A1', 'A2', 'A3']:\n",
    "    mediana = df_notas[col].median()\n",
    "    df_notas[col] = df_notas[col].fillna(mediana).round(1)\n",
    "print(\"\\nDataFrame com notas ausentes substituídas pela mediana:\")\n",
    "print(df_notas.isnull().sum()) # Verificando se ainda há valores nulos\n",
    "print(df_notas.head())\n",
    "\n",
    "# In [16]: Criação das colunas com notas em porcentagem\n",
    "pontos = {'A1': 30, 'A2': 34, 'A3': 36}\n",
    "for col in ['A1', 'A2', 'A3']:\n",
    "    df_notas[f'Ap{col[1]}'] = ((df_notas[col] / pontos[col]) * 100).round(1)\n",
    "print(\"\\nDataFrame com colunas de porcentagem:\")\n",
    "print(df_notas.head())\n",
    "\n",
    "# In [17]: Geração do Gráfico de Caixas\n",
    "fig_boxplot = px.box(df_notas,\n",
    "                     x=['Ap1', 'Ap2', 'Ap3'],\n",
    "                     orientation='h',\n",
    "                     width=800,\n",
    "                     height=400,\n",
    "                     title='Notas IA',\n",
    "                     labels={'variable': 'Atividades Avaliativas', 'value': 'Notas em %'})\n",
    "fig_boxplot.update_layout(title_font_size=22)\n",
    "fig_boxplot.show()"
   ]
  },
  {
   "cell_type": "code",
   "execution_count": 50,
   "id": "af1cb2e3",
   "metadata": {},
   "outputs": [
    {
     "name": "stdout",
     "output_type": "stream",
     "text": [
      "\n",
      "Figura 'caixas_IA_2024_1s.png' salva com sucesso.\n",
      "\n",
      "DataFrame com a coluna 'Final':\n",
      "                      Nome    A1    A2    A3   Ap1   Ap2   Ap3  Final\n",
      "0        Alexandre Gouveia  20.9  25.3  25.9  69.7  74.4  71.9   72.1\n",
      "1  Ana Luísa Vaz Alvarenga  15.5  22.0  22.2  51.7  64.7  61.7   59.7\n",
      "2    Bela Andradas Toscano  11.0  24.2  16.8  36.7  71.2  46.7   52.0\n",
      "3     Breno Pala Bernardes  15.1  21.5  21.7  50.3  63.2  60.3   58.3\n",
      "4   Carina Barreto Cândido  12.4  18.5  18.5  41.3  54.4  51.4   49.4\n"
     ]
    },
    {
     "data": {
      "application/vnd.plotly.v1+json": {
       "config": {
        "plotlyServerURL": "https://plot.ly"
       },
       "data": [
        {
         "bingroup": "x",
         "hovertemplate": "Notas=%{x}<br>count=%{y}<extra></extra>",
         "legendgroup": "",
         "marker": {
          "color": "#636efa",
          "pattern": {
           "shape": ""
          }
         },
         "name": "",
         "nbinsx": 4,
         "orientation": "v",
         "showlegend": false,
         "type": "histogram",
         "x": {
          "bdata": "ZmZmZmYGUkCamZmZmdlNQAAAAAAAAEpAZmZmZmYmTUAzMzMzM7NIQJqZmZmZWVBAZmZmZmYmT0BmZmZmZkZTQM3MzMzMbFJAAAAAAACgUkAAAAAAAOBXQDMzMzMz01FAmpmZmZnZUUAAAAAAAOBXQJqZmZmZmVRAAAAAAABgWEAzMzMzM7NNQGZmZmZmZkJAZmZmZmamT0CamZmZmVlRQGZmZmZm5lJAAAAAAAAgUUBmZmZmZsZSQJqZmZmZmUxAAAAAAADgV0AzMzMzMzNLQM3MzMzMzE5AmpmZmZlZUEBmZmZmZmZDQDMzMzMzE1NAzczMzMxMTUAzMzMzM3NOQGZmZmZm5jVAMzMzMzOzTEAzMzMzM1NXQJqZmZmZ+VJAMzMzMzOzTEAzMzMzM9NQQM3MzMzMzERAZmZmZmZmPUAAAAAAAEBQQAAAAAAA4FdAzczMzMwMVkAAAAAAAOBXQAAAAAAAoFFAAAAAAADgV0CamZmZmdlJQM3MzMzMDEtAMzMzMzMzRkAAAAAAAABUQDMzMzMzs0NAAAAAAAAAPkDNzMzMzExUQGZmZmZmJkNAMzMzMzPzVkAAAAAAAEBSQAAAAAAAQE1AmpmZmZm5U0BmZmZmZsZQQGZmZmZmJk1A",
          "dtype": "f8"
         },
         "xaxis": "x",
         "yaxis": "y"
        },
        {
         "hovertemplate": "Notas=%{x}<extra></extra>",
         "legendgroup": "",
         "marker": {
          "color": "#636efa"
         },
         "name": "",
         "notched": true,
         "showlegend": false,
         "type": "box",
         "x": {
          "bdata": "ZmZmZmYGUkCamZmZmdlNQAAAAAAAAEpAZmZmZmYmTUAzMzMzM7NIQJqZmZmZWVBAZmZmZmYmT0BmZmZmZkZTQM3MzMzMbFJAAAAAAACgUkAAAAAAAOBXQDMzMzMz01FAmpmZmZnZUUAAAAAAAOBXQJqZmZmZmVRAAAAAAABgWEAzMzMzM7NNQGZmZmZmZkJAZmZmZmamT0CamZmZmVlRQGZmZmZm5lJAAAAAAAAgUUBmZmZmZsZSQJqZmZmZmUxAAAAAAADgV0AzMzMzMzNLQM3MzMzMzE5AmpmZmZlZUEBmZmZmZmZDQDMzMzMzE1NAzczMzMxMTUAzMzMzM3NOQGZmZmZm5jVAMzMzMzOzTEAzMzMzM1NXQJqZmZmZ+VJAMzMzMzOzTEAzMzMzM9NQQM3MzMzMzERAZmZmZmZmPUAAAAAAAEBQQAAAAAAA4FdAzczMzMwMVkAAAAAAAOBXQAAAAAAAoFFAAAAAAADgV0CamZmZmdlJQM3MzMzMDEtAMzMzMzMzRkAAAAAAAABUQDMzMzMzs0NAAAAAAAAAPkDNzMzMzExUQGZmZmZmJkNAMzMzMzPzVkAAAAAAAEBSQAAAAAAAQE1AmpmZmZm5U0BmZmZmZsZQQGZmZmZmJk1A",
          "dtype": "f8"
         },
         "xaxis": "x2",
         "yaxis": "y2"
        }
       ],
       "layout": {
        "barmode": "relative",
        "height": 400,
        "legend": {
         "tracegroupgap": 0
        },
        "template": {
         "data": {
          "bar": [
           {
            "error_x": {
             "color": "#2a3f5f"
            },
            "error_y": {
             "color": "#2a3f5f"
            },
            "marker": {
             "line": {
              "color": "#E5ECF6",
              "width": 0.5
             },
             "pattern": {
              "fillmode": "overlay",
              "size": 10,
              "solidity": 0.2
             }
            },
            "type": "bar"
           }
          ],
          "barpolar": [
           {
            "marker": {
             "line": {
              "color": "#E5ECF6",
              "width": 0.5
             },
             "pattern": {
              "fillmode": "overlay",
              "size": 10,
              "solidity": 0.2
             }
            },
            "type": "barpolar"
           }
          ],
          "carpet": [
           {
            "aaxis": {
             "endlinecolor": "#2a3f5f",
             "gridcolor": "white",
             "linecolor": "white",
             "minorgridcolor": "white",
             "startlinecolor": "#2a3f5f"
            },
            "baxis": {
             "endlinecolor": "#2a3f5f",
             "gridcolor": "white",
             "linecolor": "white",
             "minorgridcolor": "white",
             "startlinecolor": "#2a3f5f"
            },
            "type": "carpet"
           }
          ],
          "choropleth": [
           {
            "colorbar": {
             "outlinewidth": 0,
             "ticks": ""
            },
            "type": "choropleth"
           }
          ],
          "contour": [
           {
            "colorbar": {
             "outlinewidth": 0,
             "ticks": ""
            },
            "colorscale": [
             [
              0,
              "#0d0887"
             ],
             [
              0.1111111111111111,
              "#46039f"
             ],
             [
              0.2222222222222222,
              "#7201a8"
             ],
             [
              0.3333333333333333,
              "#9c179e"
             ],
             [
              0.4444444444444444,
              "#bd3786"
             ],
             [
              0.5555555555555556,
              "#d8576b"
             ],
             [
              0.6666666666666666,
              "#ed7953"
             ],
             [
              0.7777777777777778,
              "#fb9f3a"
             ],
             [
              0.8888888888888888,
              "#fdca26"
             ],
             [
              1,
              "#f0f921"
             ]
            ],
            "type": "contour"
           }
          ],
          "contourcarpet": [
           {
            "colorbar": {
             "outlinewidth": 0,
             "ticks": ""
            },
            "type": "contourcarpet"
           }
          ],
          "heatmap": [
           {
            "colorbar": {
             "outlinewidth": 0,
             "ticks": ""
            },
            "colorscale": [
             [
              0,
              "#0d0887"
             ],
             [
              0.1111111111111111,
              "#46039f"
             ],
             [
              0.2222222222222222,
              "#7201a8"
             ],
             [
              0.3333333333333333,
              "#9c179e"
             ],
             [
              0.4444444444444444,
              "#bd3786"
             ],
             [
              0.5555555555555556,
              "#d8576b"
             ],
             [
              0.6666666666666666,
              "#ed7953"
             ],
             [
              0.7777777777777778,
              "#fb9f3a"
             ],
             [
              0.8888888888888888,
              "#fdca26"
             ],
             [
              1,
              "#f0f921"
             ]
            ],
            "type": "heatmap"
           }
          ],
          "histogram": [
           {
            "marker": {
             "pattern": {
              "fillmode": "overlay",
              "size": 10,
              "solidity": 0.2
             }
            },
            "type": "histogram"
           }
          ],
          "histogram2d": [
           {
            "colorbar": {
             "outlinewidth": 0,
             "ticks": ""
            },
            "colorscale": [
             [
              0,
              "#0d0887"
             ],
             [
              0.1111111111111111,
              "#46039f"
             ],
             [
              0.2222222222222222,
              "#7201a8"
             ],
             [
              0.3333333333333333,
              "#9c179e"
             ],
             [
              0.4444444444444444,
              "#bd3786"
             ],
             [
              0.5555555555555556,
              "#d8576b"
             ],
             [
              0.6666666666666666,
              "#ed7953"
             ],
             [
              0.7777777777777778,
              "#fb9f3a"
             ],
             [
              0.8888888888888888,
              "#fdca26"
             ],
             [
              1,
              "#f0f921"
             ]
            ],
            "type": "histogram2d"
           }
          ],
          "histogram2dcontour": [
           {
            "colorbar": {
             "outlinewidth": 0,
             "ticks": ""
            },
            "colorscale": [
             [
              0,
              "#0d0887"
             ],
             [
              0.1111111111111111,
              "#46039f"
             ],
             [
              0.2222222222222222,
              "#7201a8"
             ],
             [
              0.3333333333333333,
              "#9c179e"
             ],
             [
              0.4444444444444444,
              "#bd3786"
             ],
             [
              0.5555555555555556,
              "#d8576b"
             ],
             [
              0.6666666666666666,
              "#ed7953"
             ],
             [
              0.7777777777777778,
              "#fb9f3a"
             ],
             [
              0.8888888888888888,
              "#fdca26"
             ],
             [
              1,
              "#f0f921"
             ]
            ],
            "type": "histogram2dcontour"
           }
          ],
          "mesh3d": [
           {
            "colorbar": {
             "outlinewidth": 0,
             "ticks": ""
            },
            "type": "mesh3d"
           }
          ],
          "parcoords": [
           {
            "line": {
             "colorbar": {
              "outlinewidth": 0,
              "ticks": ""
             }
            },
            "type": "parcoords"
           }
          ],
          "pie": [
           {
            "automargin": true,
            "type": "pie"
           }
          ],
          "scatter": [
           {
            "fillpattern": {
             "fillmode": "overlay",
             "size": 10,
             "solidity": 0.2
            },
            "type": "scatter"
           }
          ],
          "scatter3d": [
           {
            "line": {
             "colorbar": {
              "outlinewidth": 0,
              "ticks": ""
             }
            },
            "marker": {
             "colorbar": {
              "outlinewidth": 0,
              "ticks": ""
             }
            },
            "type": "scatter3d"
           }
          ],
          "scattercarpet": [
           {
            "marker": {
             "colorbar": {
              "outlinewidth": 0,
              "ticks": ""
             }
            },
            "type": "scattercarpet"
           }
          ],
          "scattergeo": [
           {
            "marker": {
             "colorbar": {
              "outlinewidth": 0,
              "ticks": ""
             }
            },
            "type": "scattergeo"
           }
          ],
          "scattergl": [
           {
            "marker": {
             "colorbar": {
              "outlinewidth": 0,
              "ticks": ""
             }
            },
            "type": "scattergl"
           }
          ],
          "scattermap": [
           {
            "marker": {
             "colorbar": {
              "outlinewidth": 0,
              "ticks": ""
             }
            },
            "type": "scattermap"
           }
          ],
          "scattermapbox": [
           {
            "marker": {
             "colorbar": {
              "outlinewidth": 0,
              "ticks": ""
             }
            },
            "type": "scattermapbox"
           }
          ],
          "scatterpolar": [
           {
            "marker": {
             "colorbar": {
              "outlinewidth": 0,
              "ticks": ""
             }
            },
            "type": "scatterpolar"
           }
          ],
          "scatterpolargl": [
           {
            "marker": {
             "colorbar": {
              "outlinewidth": 0,
              "ticks": ""
             }
            },
            "type": "scatterpolargl"
           }
          ],
          "scatterternary": [
           {
            "marker": {
             "colorbar": {
              "outlinewidth": 0,
              "ticks": ""
             }
            },
            "type": "scatterternary"
           }
          ],
          "surface": [
           {
            "colorbar": {
             "outlinewidth": 0,
             "ticks": ""
            },
            "colorscale": [
             [
              0,
              "#0d0887"
             ],
             [
              0.1111111111111111,
              "#46039f"
             ],
             [
              0.2222222222222222,
              "#7201a8"
             ],
             [
              0.3333333333333333,
              "#9c179e"
             ],
             [
              0.4444444444444444,
              "#bd3786"
             ],
             [
              0.5555555555555556,
              "#d8576b"
             ],
             [
              0.6666666666666666,
              "#ed7953"
             ],
             [
              0.7777777777777778,
              "#fb9f3a"
             ],
             [
              0.8888888888888888,
              "#fdca26"
             ],
             [
              1,
              "#f0f921"
             ]
            ],
            "type": "surface"
           }
          ],
          "table": [
           {
            "cells": {
             "fill": {
              "color": "#EBF0F8"
             },
             "line": {
              "color": "white"
             }
            },
            "header": {
             "fill": {
              "color": "#C8D4E3"
             },
             "line": {
              "color": "white"
             }
            },
            "type": "table"
           }
          ]
         },
         "layout": {
          "annotationdefaults": {
           "arrowcolor": "#2a3f5f",
           "arrowhead": 0,
           "arrowwidth": 1
          },
          "autotypenumbers": "strict",
          "coloraxis": {
           "colorbar": {
            "outlinewidth": 0,
            "ticks": ""
           }
          },
          "colorscale": {
           "diverging": [
            [
             0,
             "#8e0152"
            ],
            [
             0.1,
             "#c51b7d"
            ],
            [
             0.2,
             "#de77ae"
            ],
            [
             0.3,
             "#f1b6da"
            ],
            [
             0.4,
             "#fde0ef"
            ],
            [
             0.5,
             "#f7f7f7"
            ],
            [
             0.6,
             "#e6f5d0"
            ],
            [
             0.7,
             "#b8e186"
            ],
            [
             0.8,
             "#7fbc41"
            ],
            [
             0.9,
             "#4d9221"
            ],
            [
             1,
             "#276419"
            ]
           ],
           "sequential": [
            [
             0,
             "#0d0887"
            ],
            [
             0.1111111111111111,
             "#46039f"
            ],
            [
             0.2222222222222222,
             "#7201a8"
            ],
            [
             0.3333333333333333,
             "#9c179e"
            ],
            [
             0.4444444444444444,
             "#bd3786"
            ],
            [
             0.5555555555555556,
             "#d8576b"
            ],
            [
             0.6666666666666666,
             "#ed7953"
            ],
            [
             0.7777777777777778,
             "#fb9f3a"
            ],
            [
             0.8888888888888888,
             "#fdca26"
            ],
            [
             1,
             "#f0f921"
            ]
           ],
           "sequentialminus": [
            [
             0,
             "#0d0887"
            ],
            [
             0.1111111111111111,
             "#46039f"
            ],
            [
             0.2222222222222222,
             "#7201a8"
            ],
            [
             0.3333333333333333,
             "#9c179e"
            ],
            [
             0.4444444444444444,
             "#bd3786"
            ],
            [
             0.5555555555555556,
             "#d8576b"
            ],
            [
             0.6666666666666666,
             "#ed7953"
            ],
            [
             0.7777777777777778,
             "#fb9f3a"
            ],
            [
             0.8888888888888888,
             "#fdca26"
            ],
            [
             1,
             "#f0f921"
            ]
           ]
          },
          "colorway": [
           "#636efa",
           "#EF553B",
           "#00cc96",
           "#ab63fa",
           "#FFA15A",
           "#19d3f3",
           "#FF6692",
           "#B6E880",
           "#FF97FF",
           "#FECB52"
          ],
          "font": {
           "color": "#2a3f5f"
          },
          "geo": {
           "bgcolor": "white",
           "lakecolor": "white",
           "landcolor": "#E5ECF6",
           "showlakes": true,
           "showland": true,
           "subunitcolor": "white"
          },
          "hoverlabel": {
           "align": "left"
          },
          "hovermode": "closest",
          "mapbox": {
           "style": "light"
          },
          "paper_bgcolor": "white",
          "plot_bgcolor": "#E5ECF6",
          "polar": {
           "angularaxis": {
            "gridcolor": "white",
            "linecolor": "white",
            "ticks": ""
           },
           "bgcolor": "#E5ECF6",
           "radialaxis": {
            "gridcolor": "white",
            "linecolor": "white",
            "ticks": ""
           }
          },
          "scene": {
           "xaxis": {
            "backgroundcolor": "#E5ECF6",
            "gridcolor": "white",
            "gridwidth": 2,
            "linecolor": "white",
            "showbackground": true,
            "ticks": "",
            "zerolinecolor": "white"
           },
           "yaxis": {
            "backgroundcolor": "#E5ECF6",
            "gridcolor": "white",
            "gridwidth": 2,
            "linecolor": "white",
            "showbackground": true,
            "ticks": "",
            "zerolinecolor": "white"
           },
           "zaxis": {
            "backgroundcolor": "#E5ECF6",
            "gridcolor": "white",
            "gridwidth": 2,
            "linecolor": "white",
            "showbackground": true,
            "ticks": "",
            "zerolinecolor": "white"
           }
          },
          "shapedefaults": {
           "line": {
            "color": "#2a3f5f"
           }
          },
          "ternary": {
           "aaxis": {
            "gridcolor": "white",
            "linecolor": "white",
            "ticks": ""
           },
           "baxis": {
            "gridcolor": "white",
            "linecolor": "white",
            "ticks": ""
           },
           "bgcolor": "#E5ECF6",
           "caxis": {
            "gridcolor": "white",
            "linecolor": "white",
            "ticks": ""
           }
          },
          "title": {
           "x": 0.05
          },
          "xaxis": {
           "automargin": true,
           "gridcolor": "white",
           "linecolor": "white",
           "ticks": "",
           "title": {
            "standoff": 15
           },
           "zerolinecolor": "white",
           "zerolinewidth": 2
          },
          "yaxis": {
           "automargin": true,
           "gridcolor": "white",
           "linecolor": "white",
           "ticks": "",
           "title": {
            "standoff": 15
           },
           "zerolinecolor": "white",
           "zerolinewidth": 2
          }
         }
        },
        "title": {
         "font": {
          "size": 22
         },
         "text": "Notas Finais IA 1º semestre 2024"
        },
        "width": 800,
        "xaxis": {
         "anchor": "y",
         "domain": [
          0,
          1
         ],
         "title": {
          "text": "Notas"
         }
        },
        "xaxis2": {
         "anchor": "y2",
         "domain": [
          0,
          1
         ],
         "matches": "x",
         "showgrid": true,
         "showticklabels": false
        },
        "yaxis": {
         "anchor": "x",
         "domain": [
          0,
          0.8316
         ],
         "title": {
          "text": "count"
         }
        },
        "yaxis2": {
         "anchor": "x2",
         "domain": [
          0.8416,
          1
         ],
         "matches": "y2",
         "showgrid": false,
         "showline": false,
         "showticklabels": false,
         "ticks": ""
        }
       }
      }
     },
     "metadata": {},
     "output_type": "display_data"
    }
   ],
   "source": [
    "# In [18]: Salvando a figura do Gráfico de Caixas\n",
    "fig_boxplot.write_image(\"caixas_IA_2024_1s.png\")\n",
    "print(\"\\nFigura 'caixas_IA_2024_1s.png' salva com sucesso.\")\n",
    "\n",
    "# In [19]: Criação da coluna Final\n",
    "df_notas['Final'] = (df_notas['A1'] + df_notas['A2'] + df_notas['A3']).round(1)\n",
    "print(\"\\nDataFrame com a coluna 'Final':\")\n",
    "print(df_notas.head())\n",
    "\n",
    "# In [20]: Geração do Gráfico de Histograma\n",
    "fig_hist = px.histogram(df_notas,\n",
    "                        x='Final',\n",
    "                        nbins=4,\n",
    "                        marginal='box',\n",
    "                        width=800,\n",
    "                        height=400,\n",
    "                        title='Notas Finais IA 1º semestre 2024',\n",
    "                        labels={'Final': 'Notas', 'count': 'Frequência'},\n",
    "                        )\n",
    "fig_hist.update_layout(title_font_size=22)\n",
    "fig_hist.show()"
   ]
  },
  {
   "cell_type": "code",
   "execution_count": 51,
   "id": "6e310e5b",
   "metadata": {},
   "outputs": [
    {
     "name": "stdout",
     "output_type": "stream",
     "text": [
      "\n",
      "As 8 primeiras linhas do DataFrame df_voos:\n",
      "    Ano  Mês Empresa Origem Destino  Tarifa  Assentos\n",
      "0  2024    1     ABJ   SBSV    SDLO   600.0         8\n",
      "1  2024    1     ABJ   SBSV    SDLO   700.0         8\n",
      "2  2024    1     ABJ   SBSV    SDLO   900.0        14\n",
      "3  2024    1     ABJ   SBSV    SDLO  1550.0         1\n",
      "4  2024    1     ABJ   SBSV    SIRI   650.0        11\n",
      "5  2024    1     ABJ   SBSV    SIRI   950.0         7\n",
      "6  2024    1     ABJ   SBSV    SIRI  1600.0         1\n",
      "7  2024    1     ABJ   SBSV    SNCL   550.0        56\n",
      "\n",
      "Informações do DataFrame df_voos:\n",
      "<class 'pandas.core.frame.DataFrame'>\n",
      "RangeIndex: 1522691 entries, 0 to 1522690\n",
      "Data columns (total 7 columns):\n",
      " #   Column    Non-Null Count    Dtype  \n",
      "---  ------    --------------    -----  \n",
      " 0   Ano       1522691 non-null  int64  \n",
      " 1   Mês       1522691 non-null  int64  \n",
      " 2   Empresa   1522691 non-null  object \n",
      " 3   Origem    1522691 non-null  object \n",
      " 4   Destino   1522691 non-null  object \n",
      " 5   Tarifa    1522691 non-null  float64\n",
      " 6   Assentos  1522691 non-null  int64  \n",
      "dtypes: float64(1), int64(3), object(3)\n",
      "memory usage: 81.3+ MB\n",
      "\n",
      "Dimensões do DataFrame df_voos: (1522691, 7)\n"
     ]
    }
   ],
   "source": [
    "# In [21]: Salvando o DataFrame em um arquivo .ods\n",
    "df_notas.to_excel('notas_ia_2024.ods', sheet_name='IA 2024 1S', index=False, engine='odf')\n",
    "\n",
    "# In [22]: Carregamento do arquivo anac_2024_tri_1.csv\n",
    "df_voos = pd.read_csv('anac_2024_tri_1.csv', sep=';', decimal=',')\n",
    "print(\"\\nAs 8 primeiras linhas do DataFrame df_voos:\")\n",
    "print(df_voos.head(8))\n",
    "\n",
    "# In [23]: Exibição das informações do DataFrame df_voos\n",
    "print(\"\\nInformações do DataFrame df_voos:\")\n",
    "df_voos.info()\n",
    "\n",
    "# In [24]: Impressão das dimensões do DataFrame df_voos\n",
    "print(f\"\\nDimensões do DataFrame df_voos: {df_voos.shape}\")"
   ]
  },
  {
   "cell_type": "code",
   "execution_count": 52,
   "id": "a46019f1",
   "metadata": {},
   "outputs": [
    {
     "name": "stdout",
     "output_type": "stream",
     "text": [
      "\n",
      "Número de passagens por empresa:\n",
      "  Empresa  Num_Passagens\n",
      "0     ABJ           1437\n",
      "1     AZU        2349751\n",
      "2     GLO        1888186\n",
      "3     PTB          18907\n",
      "4     TAM        2529072\n"
     ]
    },
    {
     "data": {
      "application/vnd.plotly.v1+json": {
       "config": {
        "plotlyServerURL": "https://plot.ly"
       },
       "data": [
        {
         "hovertemplate": "Empresas=%{x}<br>Número de Passagens=%{y}<extra></extra>",
         "legendgroup": "ABJ",
         "marker": {
          "color": "#636efa",
          "pattern": {
           "shape": ""
          }
         },
         "name": "ABJ",
         "orientation": "v",
         "showlegend": true,
         "textposition": "auto",
         "type": "bar",
         "x": [
          "ABJ"
         ],
         "xaxis": "x",
         "y": {
          "bdata": "nQU=",
          "dtype": "i2"
         },
         "yaxis": "y"
        },
        {
         "hovertemplate": "Empresas=%{x}<br>Número de Passagens=%{y}<extra></extra>",
         "legendgroup": "AZU",
         "marker": {
          "color": "#EF553B",
          "pattern": {
           "shape": ""
          }
         },
         "name": "AZU",
         "orientation": "v",
         "showlegend": true,
         "textposition": "auto",
         "type": "bar",
         "x": [
          "AZU"
         ],
         "xaxis": "x",
         "y": {
          "bdata": "t9ojAA==",
          "dtype": "i4"
         },
         "yaxis": "y"
        },
        {
         "hovertemplate": "Empresas=%{x}<br>Número de Passagens=%{y}<extra></extra>",
         "legendgroup": "GLO",
         "marker": {
          "color": "#00cc96",
          "pattern": {
           "shape": ""
          }
         },
         "name": "GLO",
         "orientation": "v",
         "showlegend": true,
         "textposition": "auto",
         "type": "bar",
         "x": [
          "GLO"
         ],
         "xaxis": "x",
         "y": {
          "bdata": "us8cAA==",
          "dtype": "i4"
         },
         "yaxis": "y"
        },
        {
         "hovertemplate": "Empresas=%{x}<br>Número de Passagens=%{y}<extra></extra>",
         "legendgroup": "PTB",
         "marker": {
          "color": "#ab63fa",
          "pattern": {
           "shape": ""
          }
         },
         "name": "PTB",
         "orientation": "v",
         "showlegend": true,
         "textposition": "auto",
         "type": "bar",
         "x": [
          "PTB"
         ],
         "xaxis": "x",
         "y": {
          "bdata": "20k=",
          "dtype": "i2"
         },
         "yaxis": "y"
        },
        {
         "hovertemplate": "Empresas=%{x}<br>Número de Passagens=%{y}<extra></extra>",
         "legendgroup": "TAM",
         "marker": {
          "color": "#FFA15A",
          "pattern": {
           "shape": ""
          }
         },
         "name": "TAM",
         "orientation": "v",
         "showlegend": true,
         "textposition": "auto",
         "type": "bar",
         "x": [
          "TAM"
         ],
         "xaxis": "x",
         "y": {
          "bdata": "MJcmAA==",
          "dtype": "i4"
         },
         "yaxis": "y"
        }
       ],
       "layout": {
        "barmode": "relative",
        "height": 400,
        "legend": {
         "title": {
          "text": "Empresas"
         },
         "tracegroupgap": 0
        },
        "template": {
         "data": {
          "bar": [
           {
            "error_x": {
             "color": "#2a3f5f"
            },
            "error_y": {
             "color": "#2a3f5f"
            },
            "marker": {
             "line": {
              "color": "#E5ECF6",
              "width": 0.5
             },
             "pattern": {
              "fillmode": "overlay",
              "size": 10,
              "solidity": 0.2
             }
            },
            "type": "bar"
           }
          ],
          "barpolar": [
           {
            "marker": {
             "line": {
              "color": "#E5ECF6",
              "width": 0.5
             },
             "pattern": {
              "fillmode": "overlay",
              "size": 10,
              "solidity": 0.2
             }
            },
            "type": "barpolar"
           }
          ],
          "carpet": [
           {
            "aaxis": {
             "endlinecolor": "#2a3f5f",
             "gridcolor": "white",
             "linecolor": "white",
             "minorgridcolor": "white",
             "startlinecolor": "#2a3f5f"
            },
            "baxis": {
             "endlinecolor": "#2a3f5f",
             "gridcolor": "white",
             "linecolor": "white",
             "minorgridcolor": "white",
             "startlinecolor": "#2a3f5f"
            },
            "type": "carpet"
           }
          ],
          "choropleth": [
           {
            "colorbar": {
             "outlinewidth": 0,
             "ticks": ""
            },
            "type": "choropleth"
           }
          ],
          "contour": [
           {
            "colorbar": {
             "outlinewidth": 0,
             "ticks": ""
            },
            "colorscale": [
             [
              0,
              "#0d0887"
             ],
             [
              0.1111111111111111,
              "#46039f"
             ],
             [
              0.2222222222222222,
              "#7201a8"
             ],
             [
              0.3333333333333333,
              "#9c179e"
             ],
             [
              0.4444444444444444,
              "#bd3786"
             ],
             [
              0.5555555555555556,
              "#d8576b"
             ],
             [
              0.6666666666666666,
              "#ed7953"
             ],
             [
              0.7777777777777778,
              "#fb9f3a"
             ],
             [
              0.8888888888888888,
              "#fdca26"
             ],
             [
              1,
              "#f0f921"
             ]
            ],
            "type": "contour"
           }
          ],
          "contourcarpet": [
           {
            "colorbar": {
             "outlinewidth": 0,
             "ticks": ""
            },
            "type": "contourcarpet"
           }
          ],
          "heatmap": [
           {
            "colorbar": {
             "outlinewidth": 0,
             "ticks": ""
            },
            "colorscale": [
             [
              0,
              "#0d0887"
             ],
             [
              0.1111111111111111,
              "#46039f"
             ],
             [
              0.2222222222222222,
              "#7201a8"
             ],
             [
              0.3333333333333333,
              "#9c179e"
             ],
             [
              0.4444444444444444,
              "#bd3786"
             ],
             [
              0.5555555555555556,
              "#d8576b"
             ],
             [
              0.6666666666666666,
              "#ed7953"
             ],
             [
              0.7777777777777778,
              "#fb9f3a"
             ],
             [
              0.8888888888888888,
              "#fdca26"
             ],
             [
              1,
              "#f0f921"
             ]
            ],
            "type": "heatmap"
           }
          ],
          "histogram": [
           {
            "marker": {
             "pattern": {
              "fillmode": "overlay",
              "size": 10,
              "solidity": 0.2
             }
            },
            "type": "histogram"
           }
          ],
          "histogram2d": [
           {
            "colorbar": {
             "outlinewidth": 0,
             "ticks": ""
            },
            "colorscale": [
             [
              0,
              "#0d0887"
             ],
             [
              0.1111111111111111,
              "#46039f"
             ],
             [
              0.2222222222222222,
              "#7201a8"
             ],
             [
              0.3333333333333333,
              "#9c179e"
             ],
             [
              0.4444444444444444,
              "#bd3786"
             ],
             [
              0.5555555555555556,
              "#d8576b"
             ],
             [
              0.6666666666666666,
              "#ed7953"
             ],
             [
              0.7777777777777778,
              "#fb9f3a"
             ],
             [
              0.8888888888888888,
              "#fdca26"
             ],
             [
              1,
              "#f0f921"
             ]
            ],
            "type": "histogram2d"
           }
          ],
          "histogram2dcontour": [
           {
            "colorbar": {
             "outlinewidth": 0,
             "ticks": ""
            },
            "colorscale": [
             [
              0,
              "#0d0887"
             ],
             [
              0.1111111111111111,
              "#46039f"
             ],
             [
              0.2222222222222222,
              "#7201a8"
             ],
             [
              0.3333333333333333,
              "#9c179e"
             ],
             [
              0.4444444444444444,
              "#bd3786"
             ],
             [
              0.5555555555555556,
              "#d8576b"
             ],
             [
              0.6666666666666666,
              "#ed7953"
             ],
             [
              0.7777777777777778,
              "#fb9f3a"
             ],
             [
              0.8888888888888888,
              "#fdca26"
             ],
             [
              1,
              "#f0f921"
             ]
            ],
            "type": "histogram2dcontour"
           }
          ],
          "mesh3d": [
           {
            "colorbar": {
             "outlinewidth": 0,
             "ticks": ""
            },
            "type": "mesh3d"
           }
          ],
          "parcoords": [
           {
            "line": {
             "colorbar": {
              "outlinewidth": 0,
              "ticks": ""
             }
            },
            "type": "parcoords"
           }
          ],
          "pie": [
           {
            "automargin": true,
            "type": "pie"
           }
          ],
          "scatter": [
           {
            "fillpattern": {
             "fillmode": "overlay",
             "size": 10,
             "solidity": 0.2
            },
            "type": "scatter"
           }
          ],
          "scatter3d": [
           {
            "line": {
             "colorbar": {
              "outlinewidth": 0,
              "ticks": ""
             }
            },
            "marker": {
             "colorbar": {
              "outlinewidth": 0,
              "ticks": ""
             }
            },
            "type": "scatter3d"
           }
          ],
          "scattercarpet": [
           {
            "marker": {
             "colorbar": {
              "outlinewidth": 0,
              "ticks": ""
             }
            },
            "type": "scattercarpet"
           }
          ],
          "scattergeo": [
           {
            "marker": {
             "colorbar": {
              "outlinewidth": 0,
              "ticks": ""
             }
            },
            "type": "scattergeo"
           }
          ],
          "scattergl": [
           {
            "marker": {
             "colorbar": {
              "outlinewidth": 0,
              "ticks": ""
             }
            },
            "type": "scattergl"
           }
          ],
          "scattermap": [
           {
            "marker": {
             "colorbar": {
              "outlinewidth": 0,
              "ticks": ""
             }
            },
            "type": "scattermap"
           }
          ],
          "scattermapbox": [
           {
            "marker": {
             "colorbar": {
              "outlinewidth": 0,
              "ticks": ""
             }
            },
            "type": "scattermapbox"
           }
          ],
          "scatterpolar": [
           {
            "marker": {
             "colorbar": {
              "outlinewidth": 0,
              "ticks": ""
             }
            },
            "type": "scatterpolar"
           }
          ],
          "scatterpolargl": [
           {
            "marker": {
             "colorbar": {
              "outlinewidth": 0,
              "ticks": ""
             }
            },
            "type": "scatterpolargl"
           }
          ],
          "scatterternary": [
           {
            "marker": {
             "colorbar": {
              "outlinewidth": 0,
              "ticks": ""
             }
            },
            "type": "scatterternary"
           }
          ],
          "surface": [
           {
            "colorbar": {
             "outlinewidth": 0,
             "ticks": ""
            },
            "colorscale": [
             [
              0,
              "#0d0887"
             ],
             [
              0.1111111111111111,
              "#46039f"
             ],
             [
              0.2222222222222222,
              "#7201a8"
             ],
             [
              0.3333333333333333,
              "#9c179e"
             ],
             [
              0.4444444444444444,
              "#bd3786"
             ],
             [
              0.5555555555555556,
              "#d8576b"
             ],
             [
              0.6666666666666666,
              "#ed7953"
             ],
             [
              0.7777777777777778,
              "#fb9f3a"
             ],
             [
              0.8888888888888888,
              "#fdca26"
             ],
             [
              1,
              "#f0f921"
             ]
            ],
            "type": "surface"
           }
          ],
          "table": [
           {
            "cells": {
             "fill": {
              "color": "#EBF0F8"
             },
             "line": {
              "color": "white"
             }
            },
            "header": {
             "fill": {
              "color": "#C8D4E3"
             },
             "line": {
              "color": "white"
             }
            },
            "type": "table"
           }
          ]
         },
         "layout": {
          "annotationdefaults": {
           "arrowcolor": "#2a3f5f",
           "arrowhead": 0,
           "arrowwidth": 1
          },
          "autotypenumbers": "strict",
          "coloraxis": {
           "colorbar": {
            "outlinewidth": 0,
            "ticks": ""
           }
          },
          "colorscale": {
           "diverging": [
            [
             0,
             "#8e0152"
            ],
            [
             0.1,
             "#c51b7d"
            ],
            [
             0.2,
             "#de77ae"
            ],
            [
             0.3,
             "#f1b6da"
            ],
            [
             0.4,
             "#fde0ef"
            ],
            [
             0.5,
             "#f7f7f7"
            ],
            [
             0.6,
             "#e6f5d0"
            ],
            [
             0.7,
             "#b8e186"
            ],
            [
             0.8,
             "#7fbc41"
            ],
            [
             0.9,
             "#4d9221"
            ],
            [
             1,
             "#276419"
            ]
           ],
           "sequential": [
            [
             0,
             "#0d0887"
            ],
            [
             0.1111111111111111,
             "#46039f"
            ],
            [
             0.2222222222222222,
             "#7201a8"
            ],
            [
             0.3333333333333333,
             "#9c179e"
            ],
            [
             0.4444444444444444,
             "#bd3786"
            ],
            [
             0.5555555555555556,
             "#d8576b"
            ],
            [
             0.6666666666666666,
             "#ed7953"
            ],
            [
             0.7777777777777778,
             "#fb9f3a"
            ],
            [
             0.8888888888888888,
             "#fdca26"
            ],
            [
             1,
             "#f0f921"
            ]
           ],
           "sequentialminus": [
            [
             0,
             "#0d0887"
            ],
            [
             0.1111111111111111,
             "#46039f"
            ],
            [
             0.2222222222222222,
             "#7201a8"
            ],
            [
             0.3333333333333333,
             "#9c179e"
            ],
            [
             0.4444444444444444,
             "#bd3786"
            ],
            [
             0.5555555555555556,
             "#d8576b"
            ],
            [
             0.6666666666666666,
             "#ed7953"
            ],
            [
             0.7777777777777778,
             "#fb9f3a"
            ],
            [
             0.8888888888888888,
             "#fdca26"
            ],
            [
             1,
             "#f0f921"
            ]
           ]
          },
          "colorway": [
           "#636efa",
           "#EF553B",
           "#00cc96",
           "#ab63fa",
           "#FFA15A",
           "#19d3f3",
           "#FF6692",
           "#B6E880",
           "#FF97FF",
           "#FECB52"
          ],
          "font": {
           "color": "#2a3f5f"
          },
          "geo": {
           "bgcolor": "white",
           "lakecolor": "white",
           "landcolor": "#E5ECF6",
           "showlakes": true,
           "showland": true,
           "subunitcolor": "white"
          },
          "hoverlabel": {
           "align": "left"
          },
          "hovermode": "closest",
          "mapbox": {
           "style": "light"
          },
          "paper_bgcolor": "white",
          "plot_bgcolor": "#E5ECF6",
          "polar": {
           "angularaxis": {
            "gridcolor": "white",
            "linecolor": "white",
            "ticks": ""
           },
           "bgcolor": "#E5ECF6",
           "radialaxis": {
            "gridcolor": "white",
            "linecolor": "white",
            "ticks": ""
           }
          },
          "scene": {
           "xaxis": {
            "backgroundcolor": "#E5ECF6",
            "gridcolor": "white",
            "gridwidth": 2,
            "linecolor": "white",
            "showbackground": true,
            "ticks": "",
            "zerolinecolor": "white"
           },
           "yaxis": {
            "backgroundcolor": "#E5ECF6",
            "gridcolor": "white",
            "gridwidth": 2,
            "linecolor": "white",
            "showbackground": true,
            "ticks": "",
            "zerolinecolor": "white"
           },
           "zaxis": {
            "backgroundcolor": "#E5ECF6",
            "gridcolor": "white",
            "gridwidth": 2,
            "linecolor": "white",
            "showbackground": true,
            "ticks": "",
            "zerolinecolor": "white"
           }
          },
          "shapedefaults": {
           "line": {
            "color": "#2a3f5f"
           }
          },
          "ternary": {
           "aaxis": {
            "gridcolor": "white",
            "linecolor": "white",
            "ticks": ""
           },
           "baxis": {
            "gridcolor": "white",
            "linecolor": "white",
            "ticks": ""
           },
           "bgcolor": "#E5ECF6",
           "caxis": {
            "gridcolor": "white",
            "linecolor": "white",
            "ticks": ""
           }
          },
          "title": {
           "x": 0.05
          },
          "xaxis": {
           "automargin": true,
           "gridcolor": "white",
           "linecolor": "white",
           "ticks": "",
           "title": {
            "standoff": 15
           },
           "zerolinecolor": "white",
           "zerolinewidth": 2
          },
          "yaxis": {
           "automargin": true,
           "gridcolor": "white",
           "linecolor": "white",
           "ticks": "",
           "title": {
            "standoff": 15
           },
           "zerolinecolor": "white",
           "zerolinewidth": 2
          }
         }
        },
        "title": {
         "font": {
          "size": 20
         },
         "text": "Passagens por Empresa 1º Trimestre 2024"
        },
        "width": 800,
        "xaxis": {
         "anchor": "y",
         "categoryarray": [
          "ABJ",
          "AZU",
          "GLO",
          "PTB",
          "TAM"
         ],
         "categoryorder": "array",
         "domain": [
          0,
          1
         ],
         "title": {
          "text": "Empresas"
         }
        },
        "yaxis": {
         "anchor": "x",
         "domain": [
          0,
          1
         ],
         "title": {
          "text": "Número de Passagens"
         }
        }
       }
      }
     },
     "metadata": {},
     "output_type": "display_data"
    }
   ],
   "source": [
    "# In [25]: Cálculo do número de passagens vendidas por empresa\n",
    "df_assentos_empresa = df_voos.groupby('Empresa')['Assentos'].sum().reset_index()\n",
    "df_assentos_empresa.columns = ['Empresa', 'Num_Passagens']\n",
    "print(\"\\nNúmero de passagens por empresa:\")\n",
    "print(df_assentos_empresa)\n",
    "\n",
    "# In [26]: Geração do Gráfico de Barras de passagens por empresa\n",
    "fig_bar_passagens = px.bar(df_assentos_empresa,\n",
    "                           x='Empresa',\n",
    "                           y='Num_Passagens',\n",
    "                           color='Empresa',\n",
    "                           width=800,\n",
    "                           height=400,\n",
    "                           title='Passagens por Empresa 1º Trimestre 2024',\n",
    "                           labels={'Empresa': 'Empresas', 'Num_Passagens': 'Número de Passagens'})\n",
    "fig_bar_passagens.update_layout(title_font_size=20)\n",
    "fig_bar_passagens.show()\n"
   ]
  },
  {
   "cell_type": "code",
   "execution_count": 53,
   "id": "bcc44ce2",
   "metadata": {},
   "outputs": [
    {
     "data": {
      "application/vnd.plotly.v1+json": {
       "config": {
        "plotlyServerURL": "https://plot.ly"
       },
       "data": [
        {
         "alignmentgroup": "True",
         "hovertemplate": "Empresas=%{x}<br>Número de Passagens=%{y}<br>Mês=%{marker.color}<extra></extra>",
         "legendgroup": "",
         "marker": {
          "color": {
           "bdata": "AQEBAgICAwMD",
           "dtype": "i1"
          },
          "coloraxis": "coloraxis",
          "pattern": {
           "shape": ""
          }
         },
         "name": "",
         "offsetgroup": "",
         "orientation": "v",
         "showlegend": false,
         "textposition": "auto",
         "type": "bar",
         "x": [
          "AZU",
          "GLO",
          "TAM",
          "AZU",
          "GLO",
          "TAM",
          "AZU",
          "GLO",
          "TAM"
         ],
         "xaxis": "x",
         "y": {
          "bdata": "u0kLALv5CgD97A8AfSULAMBVCQDihwoAf2sNAD+ACABRIgwA",
          "dtype": "i4"
         },
         "yaxis": "y"
        }
       ],
       "layout": {
        "barmode": "group",
        "coloraxis": {
         "colorbar": {
          "title": {
           "text": "Mês"
          }
         },
         "colorscale": [
          [
           0,
           "#0d0887"
          ],
          [
           0.1111111111111111,
           "#46039f"
          ],
          [
           0.2222222222222222,
           "#7201a8"
          ],
          [
           0.3333333333333333,
           "#9c179e"
          ],
          [
           0.4444444444444444,
           "#bd3786"
          ],
          [
           0.5555555555555556,
           "#d8576b"
          ],
          [
           0.6666666666666666,
           "#ed7953"
          ],
          [
           0.7777777777777778,
           "#fb9f3a"
          ],
          [
           0.8888888888888888,
           "#fdca26"
          ],
          [
           1,
           "#f0f921"
          ]
         ]
        },
        "height": 400,
        "legend": {
         "tracegroupgap": 0
        },
        "template": {
         "data": {
          "bar": [
           {
            "error_x": {
             "color": "#2a3f5f"
            },
            "error_y": {
             "color": "#2a3f5f"
            },
            "marker": {
             "line": {
              "color": "#E5ECF6",
              "width": 0.5
             },
             "pattern": {
              "fillmode": "overlay",
              "size": 10,
              "solidity": 0.2
             }
            },
            "type": "bar"
           }
          ],
          "barpolar": [
           {
            "marker": {
             "line": {
              "color": "#E5ECF6",
              "width": 0.5
             },
             "pattern": {
              "fillmode": "overlay",
              "size": 10,
              "solidity": 0.2
             }
            },
            "type": "barpolar"
           }
          ],
          "carpet": [
           {
            "aaxis": {
             "endlinecolor": "#2a3f5f",
             "gridcolor": "white",
             "linecolor": "white",
             "minorgridcolor": "white",
             "startlinecolor": "#2a3f5f"
            },
            "baxis": {
             "endlinecolor": "#2a3f5f",
             "gridcolor": "white",
             "linecolor": "white",
             "minorgridcolor": "white",
             "startlinecolor": "#2a3f5f"
            },
            "type": "carpet"
           }
          ],
          "choropleth": [
           {
            "colorbar": {
             "outlinewidth": 0,
             "ticks": ""
            },
            "type": "choropleth"
           }
          ],
          "contour": [
           {
            "colorbar": {
             "outlinewidth": 0,
             "ticks": ""
            },
            "colorscale": [
             [
              0,
              "#0d0887"
             ],
             [
              0.1111111111111111,
              "#46039f"
             ],
             [
              0.2222222222222222,
              "#7201a8"
             ],
             [
              0.3333333333333333,
              "#9c179e"
             ],
             [
              0.4444444444444444,
              "#bd3786"
             ],
             [
              0.5555555555555556,
              "#d8576b"
             ],
             [
              0.6666666666666666,
              "#ed7953"
             ],
             [
              0.7777777777777778,
              "#fb9f3a"
             ],
             [
              0.8888888888888888,
              "#fdca26"
             ],
             [
              1,
              "#f0f921"
             ]
            ],
            "type": "contour"
           }
          ],
          "contourcarpet": [
           {
            "colorbar": {
             "outlinewidth": 0,
             "ticks": ""
            },
            "type": "contourcarpet"
           }
          ],
          "heatmap": [
           {
            "colorbar": {
             "outlinewidth": 0,
             "ticks": ""
            },
            "colorscale": [
             [
              0,
              "#0d0887"
             ],
             [
              0.1111111111111111,
              "#46039f"
             ],
             [
              0.2222222222222222,
              "#7201a8"
             ],
             [
              0.3333333333333333,
              "#9c179e"
             ],
             [
              0.4444444444444444,
              "#bd3786"
             ],
             [
              0.5555555555555556,
              "#d8576b"
             ],
             [
              0.6666666666666666,
              "#ed7953"
             ],
             [
              0.7777777777777778,
              "#fb9f3a"
             ],
             [
              0.8888888888888888,
              "#fdca26"
             ],
             [
              1,
              "#f0f921"
             ]
            ],
            "type": "heatmap"
           }
          ],
          "histogram": [
           {
            "marker": {
             "pattern": {
              "fillmode": "overlay",
              "size": 10,
              "solidity": 0.2
             }
            },
            "type": "histogram"
           }
          ],
          "histogram2d": [
           {
            "colorbar": {
             "outlinewidth": 0,
             "ticks": ""
            },
            "colorscale": [
             [
              0,
              "#0d0887"
             ],
             [
              0.1111111111111111,
              "#46039f"
             ],
             [
              0.2222222222222222,
              "#7201a8"
             ],
             [
              0.3333333333333333,
              "#9c179e"
             ],
             [
              0.4444444444444444,
              "#bd3786"
             ],
             [
              0.5555555555555556,
              "#d8576b"
             ],
             [
              0.6666666666666666,
              "#ed7953"
             ],
             [
              0.7777777777777778,
              "#fb9f3a"
             ],
             [
              0.8888888888888888,
              "#fdca26"
             ],
             [
              1,
              "#f0f921"
             ]
            ],
            "type": "histogram2d"
           }
          ],
          "histogram2dcontour": [
           {
            "colorbar": {
             "outlinewidth": 0,
             "ticks": ""
            },
            "colorscale": [
             [
              0,
              "#0d0887"
             ],
             [
              0.1111111111111111,
              "#46039f"
             ],
             [
              0.2222222222222222,
              "#7201a8"
             ],
             [
              0.3333333333333333,
              "#9c179e"
             ],
             [
              0.4444444444444444,
              "#bd3786"
             ],
             [
              0.5555555555555556,
              "#d8576b"
             ],
             [
              0.6666666666666666,
              "#ed7953"
             ],
             [
              0.7777777777777778,
              "#fb9f3a"
             ],
             [
              0.8888888888888888,
              "#fdca26"
             ],
             [
              1,
              "#f0f921"
             ]
            ],
            "type": "histogram2dcontour"
           }
          ],
          "mesh3d": [
           {
            "colorbar": {
             "outlinewidth": 0,
             "ticks": ""
            },
            "type": "mesh3d"
           }
          ],
          "parcoords": [
           {
            "line": {
             "colorbar": {
              "outlinewidth": 0,
              "ticks": ""
             }
            },
            "type": "parcoords"
           }
          ],
          "pie": [
           {
            "automargin": true,
            "type": "pie"
           }
          ],
          "scatter": [
           {
            "fillpattern": {
             "fillmode": "overlay",
             "size": 10,
             "solidity": 0.2
            },
            "type": "scatter"
           }
          ],
          "scatter3d": [
           {
            "line": {
             "colorbar": {
              "outlinewidth": 0,
              "ticks": ""
             }
            },
            "marker": {
             "colorbar": {
              "outlinewidth": 0,
              "ticks": ""
             }
            },
            "type": "scatter3d"
           }
          ],
          "scattercarpet": [
           {
            "marker": {
             "colorbar": {
              "outlinewidth": 0,
              "ticks": ""
             }
            },
            "type": "scattercarpet"
           }
          ],
          "scattergeo": [
           {
            "marker": {
             "colorbar": {
              "outlinewidth": 0,
              "ticks": ""
             }
            },
            "type": "scattergeo"
           }
          ],
          "scattergl": [
           {
            "marker": {
             "colorbar": {
              "outlinewidth": 0,
              "ticks": ""
             }
            },
            "type": "scattergl"
           }
          ],
          "scattermap": [
           {
            "marker": {
             "colorbar": {
              "outlinewidth": 0,
              "ticks": ""
             }
            },
            "type": "scattermap"
           }
          ],
          "scattermapbox": [
           {
            "marker": {
             "colorbar": {
              "outlinewidth": 0,
              "ticks": ""
             }
            },
            "type": "scattermapbox"
           }
          ],
          "scatterpolar": [
           {
            "marker": {
             "colorbar": {
              "outlinewidth": 0,
              "ticks": ""
             }
            },
            "type": "scatterpolar"
           }
          ],
          "scatterpolargl": [
           {
            "marker": {
             "colorbar": {
              "outlinewidth": 0,
              "ticks": ""
             }
            },
            "type": "scatterpolargl"
           }
          ],
          "scatterternary": [
           {
            "marker": {
             "colorbar": {
              "outlinewidth": 0,
              "ticks": ""
             }
            },
            "type": "scatterternary"
           }
          ],
          "surface": [
           {
            "colorbar": {
             "outlinewidth": 0,
             "ticks": ""
            },
            "colorscale": [
             [
              0,
              "#0d0887"
             ],
             [
              0.1111111111111111,
              "#46039f"
             ],
             [
              0.2222222222222222,
              "#7201a8"
             ],
             [
              0.3333333333333333,
              "#9c179e"
             ],
             [
              0.4444444444444444,
              "#bd3786"
             ],
             [
              0.5555555555555556,
              "#d8576b"
             ],
             [
              0.6666666666666666,
              "#ed7953"
             ],
             [
              0.7777777777777778,
              "#fb9f3a"
             ],
             [
              0.8888888888888888,
              "#fdca26"
             ],
             [
              1,
              "#f0f921"
             ]
            ],
            "type": "surface"
           }
          ],
          "table": [
           {
            "cells": {
             "fill": {
              "color": "#EBF0F8"
             },
             "line": {
              "color": "white"
             }
            },
            "header": {
             "fill": {
              "color": "#C8D4E3"
             },
             "line": {
              "color": "white"
             }
            },
            "type": "table"
           }
          ]
         },
         "layout": {
          "annotationdefaults": {
           "arrowcolor": "#2a3f5f",
           "arrowhead": 0,
           "arrowwidth": 1
          },
          "autotypenumbers": "strict",
          "coloraxis": {
           "colorbar": {
            "outlinewidth": 0,
            "ticks": ""
           }
          },
          "colorscale": {
           "diverging": [
            [
             0,
             "#8e0152"
            ],
            [
             0.1,
             "#c51b7d"
            ],
            [
             0.2,
             "#de77ae"
            ],
            [
             0.3,
             "#f1b6da"
            ],
            [
             0.4,
             "#fde0ef"
            ],
            [
             0.5,
             "#f7f7f7"
            ],
            [
             0.6,
             "#e6f5d0"
            ],
            [
             0.7,
             "#b8e186"
            ],
            [
             0.8,
             "#7fbc41"
            ],
            [
             0.9,
             "#4d9221"
            ],
            [
             1,
             "#276419"
            ]
           ],
           "sequential": [
            [
             0,
             "#0d0887"
            ],
            [
             0.1111111111111111,
             "#46039f"
            ],
            [
             0.2222222222222222,
             "#7201a8"
            ],
            [
             0.3333333333333333,
             "#9c179e"
            ],
            [
             0.4444444444444444,
             "#bd3786"
            ],
            [
             0.5555555555555556,
             "#d8576b"
            ],
            [
             0.6666666666666666,
             "#ed7953"
            ],
            [
             0.7777777777777778,
             "#fb9f3a"
            ],
            [
             0.8888888888888888,
             "#fdca26"
            ],
            [
             1,
             "#f0f921"
            ]
           ],
           "sequentialminus": [
            [
             0,
             "#0d0887"
            ],
            [
             0.1111111111111111,
             "#46039f"
            ],
            [
             0.2222222222222222,
             "#7201a8"
            ],
            [
             0.3333333333333333,
             "#9c179e"
            ],
            [
             0.4444444444444444,
             "#bd3786"
            ],
            [
             0.5555555555555556,
             "#d8576b"
            ],
            [
             0.6666666666666666,
             "#ed7953"
            ],
            [
             0.7777777777777778,
             "#fb9f3a"
            ],
            [
             0.8888888888888888,
             "#fdca26"
            ],
            [
             1,
             "#f0f921"
            ]
           ]
          },
          "colorway": [
           "#636efa",
           "#EF553B",
           "#00cc96",
           "#ab63fa",
           "#FFA15A",
           "#19d3f3",
           "#FF6692",
           "#B6E880",
           "#FF97FF",
           "#FECB52"
          ],
          "font": {
           "color": "#2a3f5f"
          },
          "geo": {
           "bgcolor": "white",
           "lakecolor": "white",
           "landcolor": "#E5ECF6",
           "showlakes": true,
           "showland": true,
           "subunitcolor": "white"
          },
          "hoverlabel": {
           "align": "left"
          },
          "hovermode": "closest",
          "mapbox": {
           "style": "light"
          },
          "paper_bgcolor": "white",
          "plot_bgcolor": "#E5ECF6",
          "polar": {
           "angularaxis": {
            "gridcolor": "white",
            "linecolor": "white",
            "ticks": ""
           },
           "bgcolor": "#E5ECF6",
           "radialaxis": {
            "gridcolor": "white",
            "linecolor": "white",
            "ticks": ""
           }
          },
          "scene": {
           "xaxis": {
            "backgroundcolor": "#E5ECF6",
            "gridcolor": "white",
            "gridwidth": 2,
            "linecolor": "white",
            "showbackground": true,
            "ticks": "",
            "zerolinecolor": "white"
           },
           "yaxis": {
            "backgroundcolor": "#E5ECF6",
            "gridcolor": "white",
            "gridwidth": 2,
            "linecolor": "white",
            "showbackground": true,
            "ticks": "",
            "zerolinecolor": "white"
           },
           "zaxis": {
            "backgroundcolor": "#E5ECF6",
            "gridcolor": "white",
            "gridwidth": 2,
            "linecolor": "white",
            "showbackground": true,
            "ticks": "",
            "zerolinecolor": "white"
           }
          },
          "shapedefaults": {
           "line": {
            "color": "#2a3f5f"
           }
          },
          "ternary": {
           "aaxis": {
            "gridcolor": "white",
            "linecolor": "white",
            "ticks": ""
           },
           "baxis": {
            "gridcolor": "white",
            "linecolor": "white",
            "ticks": ""
           },
           "bgcolor": "#E5ECF6",
           "caxis": {
            "gridcolor": "white",
            "linecolor": "white",
            "ticks": ""
           }
          },
          "title": {
           "x": 0.05
          },
          "xaxis": {
           "automargin": true,
           "gridcolor": "white",
           "linecolor": "white",
           "ticks": "",
           "title": {
            "standoff": 15
           },
           "zerolinecolor": "white",
           "zerolinewidth": 2
          },
          "yaxis": {
           "automargin": true,
           "gridcolor": "white",
           "linecolor": "white",
           "ticks": "",
           "title": {
            "standoff": 15
           },
           "zerolinecolor": "white",
           "zerolinewidth": 2
          }
         }
        },
        "title": {
         "font": {
          "size": 20
         },
         "text": "Passagens por Empresas 1º Trimestre 2024"
        },
        "width": 800,
        "xaxis": {
         "anchor": "y",
         "domain": [
          0,
          1
         ],
         "title": {
          "text": "Empresas"
         }
        },
        "yaxis": {
         "anchor": "x",
         "domain": [
          0,
          1
         ],
         "title": {
          "text": "Número de Passagens"
         }
        }
       }
      }
     },
     "metadata": {},
     "output_type": "display_data"
    }
   ],
   "source": [
    "# In [27]: Geração do Gráfico de Barras agrupado por mês\n",
    "df_filtrado = df_voos[df_voos['Empresa'].isin(['AZU', 'GLO', 'TAM'])]\n",
    "\n",
    "df_agrupado_mes = df_filtrado.groupby(['Mês', 'Empresa'])['Assentos'].sum().reset_index()\n",
    "\n",
    "fig_bar_agrupado = px.bar(df_agrupado_mes,\n",
    "                          x='Empresa',\n",
    "                          y='Assentos',\n",
    "                          color='Mês',\n",
    "                          barmode='group',\n",
    "                          width=800,\n",
    "                          height=400,\n",
    "                          title='Passagens por Empresas 1º Trimestre 2024',\n",
    "                          labels={'Empresa': 'Empresas', 'Assentos': 'Número de Passagens'})\n",
    "fig_bar_agrupado.update_layout(title_font_size=20)\n",
    "fig_bar_agrupado.show()"
   ]
  },
  {
   "cell_type": "code",
   "execution_count": 54,
   "id": "184956b2",
   "metadata": {},
   "outputs": [
    {
     "name": "stdout",
     "output_type": "stream",
     "text": [
      "\n",
      "Preço médio das passagens Galeão-Congonhas por empresa:\n",
      "  Empresa  Galeao_Congonhas\n",
      "0     AZU        345.518333\n",
      "1     GLO        806.591877\n",
      "2     TAM       1081.075556\n"
     ]
    }
   ],
   "source": [
    "# In [28]: Cálculo do preço médio das passagens Galeão-Congonhas por empresa\n",
    "df_galeao_congonhas = df_voos[\n",
    "    (df_voos['Origem'] == 'SBGL') &\n",
    "    (df_voos['Destino'] == 'SBSP')\n",
    "]\n",
    "\n",
    "df_preco_medio = df_galeao_congonhas.groupby('Empresa')['Tarifa'].mean().reset_index()\n",
    "df_preco_medio.columns = ['Empresa', 'Galeao_Congonhas']\n",
    "print(\"\\nPreço médio das passagens Galeão-Congonhas por empresa:\")\n",
    "print(df_preco_medio)"
   ]
  }
 ],
 "metadata": {
  "kernelspec": {
   "display_name": ".venv (3.13.3)",
   "language": "python",
   "name": "python3"
  },
  "language_info": {
   "codemirror_mode": {
    "name": "ipython",
    "version": 3
   },
   "file_extension": ".py",
   "mimetype": "text/x-python",
   "name": "python",
   "nbconvert_exporter": "python",
   "pygments_lexer": "ipython3",
   "version": "3.13.3"
  }
 },
 "nbformat": 4,
 "nbformat_minor": 5
}
