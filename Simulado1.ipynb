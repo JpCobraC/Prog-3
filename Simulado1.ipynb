{
 "cells": [
  {
   "cell_type": "code",
   "execution_count": 33,
   "id": "fe7360bf",
   "metadata": {},
   "outputs": [],
   "source": [
    "ztA = 8\n",
    "ztB = 78\n",
    "ztC = ztA + 6\n",
    "ztD = ztB + 21"
   ]
  },
  {
   "cell_type": "code",
   "execution_count": 34,
   "id": "31852ab3",
   "metadata": {},
   "outputs": [
    {
     "name": "stdout",
     "output_type": "stream",
     "text": [
      "2\n",
      "g\n",
      "8\n",
      "Light\n",
      "[78, 8]\n",
      "[78, 8, 4]\n",
      "[2, 78, 2, 7, 2.7, 2, 2]\n",
      "30.4\n",
      "Light\n",
      "[22, 55, 77]\n",
      "[6.1, 44, 88]\n"
     ]
    }
   ],
   "source": [
    "kira = [5, 3.2, \"Naomi\", ztC, 7, 5, \"Light\", 2]\n",
    "\n",
    "print(kira[-1])\n",
    "print(kira[-2][2])\n",
    "print(len(kira))\n",
    "print(kira[-2])\n",
    "type(kira[1])\n",
    "type(kira[2])\n",
    "\n",
    "ryuk = [2, ztB, 2, 7, 2.7, 2, ztA, 2]\n",
    "rem = []\n",
    "rem.append(ryuk[1])\n",
    "rem.append(ryuk.pop(-2))\n",
    "print(rem)\n",
    "rem.append(ryuk.count(2))\n",
    "print(rem)\n",
    "print(ryuk)\n",
    "misa = len(kira) + kira[1] + kira.count(5) + kira.pop(-1)\n",
    "light = misa * 2\n",
    "print(light)\n",
    "print(kira[-1])\n",
    "near = [3.4, 6.1, 44, 88, 77, 33, 55, 99, 22]\n",
    "print(near[:-7:-2])\n",
    "print(near[-8:4])"
   ]
  },
  {
   "cell_type": "code",
   "execution_count": 43,
   "id": "1765f153",
   "metadata": {},
   "outputs": [
    {
     "name": "stdout",
     "output_type": "stream",
     "text": [
      "{5, 13}\n",
      "{18, 4, 14, 22}\n",
      "{8, 78}\n",
      "4\n",
      "6\n",
      "{4, 5, 8, 9, 11, 13, 78, 14, 18, 22}\n",
      "10\n",
      "1\n"
     ]
    }
   ],
   "source": [
    "A = {5, 8, 13, ztB}\n",
    "B = {4, 8, ztC, 18, ztB, 22}\n",
    "\n",
    "X = A.intersection(B)\n",
    "Z = A.union(B)\n",
    "print(A - B)\n",
    "print(B - A)\n",
    "print(X)\n",
    "print(len(A))\n",
    "print(len(B))\n",
    "Z.add(11)\n",
    "Z.add(8)\n",
    "Z.add(9)\n",
    "Z.add(11)\n",
    "Z.add(9)\n",
    "X.remove(8)\n",
    "print(Z)\n",
    "print(len(Z))\n",
    "print(len(X))\n"
   ]
  },
  {
   "cell_type": "code",
   "execution_count": 47,
   "id": "2e649ad4",
   "metadata": {},
   "outputs": [
    {
     "name": "stdout",
     "output_type": "stream",
     "text": [
      "m bisão\n",
      "APPA É UM BISÃO VOADOR\n",
      "Appa\n",
      "BISÃO\n",
      "p\n",
      "A\n"
     ]
    }
   ],
   "source": [
    "angg = 'Appa é um BISÃO voador'\n",
    "a = angg.lower()\n",
    "b = angg.upper()\n",
    "c = angg.split()\n",
    "print(a[ztA:15])\n",
    "print(b)\n",
    "print(c[0])\n",
    "print(c[-2])\n",
    "print(c[-5][1])\n",
    "print(c[0][-4])"
   ]
  },
  {
   "cell_type": "code",
   "execution_count": 55,
   "id": "009a4c05",
   "metadata": {},
   "outputs": [
    {
     "name": "stdout",
     "output_type": "stream",
     "text": [
      "5\n",
      "8\n",
      "86\n",
      "False\n",
      "85\n",
      "99\n",
      "68\n",
      "8\n",
      "5\n",
      "86\n",
      "4\n"
     ]
    }
   ],
   "source": [
    "kart = {'mario' :ztD, 'luigi' :54, 'koopa' :87}\n",
    "kart['toad'] = ztA\n",
    "kart['yoshi'] = kart['mario'] - 13\n",
    "print(len(kart))\n",
    "print(kart['toad'])\n",
    "print(kart['yoshi'])\n",
    "kart['koopa'] += 4\n",
    "kart['bouser'] = 71\n",
    "print(kart['luigi'] > kart['yoshi'])\n",
    "print(kart.get('donkey', 85))\n",
    "print(kart.get('mario', 88))\n",
    "kart['luigi'] = kart['yoshi'] - 18\n",
    "print(kart.get('luigi', 84))\n",
    "print(kart.pop('toad'))\n",
    "print(len(kart))\n",
    "print(kart.pop('yoshi'))\n",
    "print(len(kart))"
   ]
  }
 ],
 "metadata": {
  "kernelspec": {
   "display_name": "Python 3",
   "language": "python",
   "name": "python3"
  },
  "language_info": {
   "codemirror_mode": {
    "name": "ipython",
    "version": 3
   },
   "file_extension": ".py",
   "mimetype": "text/x-python",
   "name": "python",
   "nbconvert_exporter": "python",
   "pygments_lexer": "ipython3",
   "version": "3.10.0"
  }
 },
 "nbformat": 4,
 "nbformat_minor": 5
}
